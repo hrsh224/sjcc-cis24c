{
  "cells": [
    {
      "cell_type": "markdown",
      "metadata": {
        "id": "8Vt3q3w_1M5h"
      },
      "source": [
        "# CIS024C -  Fall 2024\n",
        "\n",
        "## Lab 6\n",
        "\n",
        "**Lab 6 consists the below topics**\n",
        "\n",
        "**Functions and Arguments\n",
        "\n",
        "**Variable scope wrt functions\n",
        "\n",
        "**Recursion\n",
        "\n",
        "Feel free to search the web for how you can solve these exercises.\n",
        "\n",
        "We will review them during class.\n",
        "\n",
        "**Students will be given partial credit for attemping to solve the exercises. You will be given the solutions during class and are required to use the solution to update your lab with the correct solutions**\n",
        "\n",
        "You will need to download this notebook and use this as a starting point for your homework. You will just need to fill in the content of each code-block (cell) and execute. Once you have completed all the exercises, you will need to save this notebook and upload it into Canvas.\n",
        "\n",
        "Note also the exercises build on top of one another so you might be able to do the next exercise if you have not completed the previous exercise.\n",
        "\n",
        "Post any questions you have on our Slack discussions channel"
      ]
    },
    {
      "cell_type": "markdown",
      "metadata": {
        "id": "Iv0WnYEn1M5l"
      },
      "source": [
        "#### Exercise 1 (25 points)\n",
        "\n",
        "Write a function to sort numbers in a list.\n",
        "\n",
        "Do not use any existing sort functions.\n",
        "\n",
        "Here is a suitable algorithm for you to consider to perform the sort\n",
        "```\n",
        "begin BubbleSort(list)\n",
        "\n",
        "   for all elements of list\n",
        "      if list[i] > list[i+1]\n",
        "         swap(list[i], list[i+1])\n",
        "      end if\n",
        "   end for\n",
        "   \n",
        "   return list\n",
        "   \n",
        "end BubbleSort\n",
        "```"
      ]
    },
    {
      "cell_type": "code",
      "execution_count": null,
      "metadata": {
        "id": "VzN4wYVz1M5m"
      },
      "outputs": [],
      "source": [
        "### YOUR CODE GOES BELOW\n",
        "def bubble_sort(nums):\n",
        "    # swapped to True so the loop looks runs at least once\n",
        "    swapped = True\n",
        "    while swapped:\n",
        "        swapped = False  # Initialize swapped to False \n",
        "\n",
        "        for i in range(len(nums) - 1):\n",
        "            # If the element found is greater than the next element\n",
        "            if nums[i] > nums[i + 1]:\n",
        "                # Swap them\n",
        "                nums[i], nums[i + 1] = nums[i + 1], nums[i]\n",
        "                # Set the flag to True so we'll loop again\n",
        "                swapped = True\n",
        "\n",
        "    return nums\n",
        "\n",
        "numbers = [1, 2, 9, 5, 6]\n",
        "sorted_numbers = bubble_sort(numbers)\n",
        "print(f\"Sorted numbers: {sorted_numbers}\")\n",
        "\n",
        "### END CODE"
      ]
    },
    {
      "cell_type": "markdown",
      "metadata": {
        "id": "dztQ5SIp1M5o"
      },
      "source": [
        "#### Exercise 2 (25 points)\n",
        "\n",
        "Write a recursive Python function to compute the factorial of a number.\n",
        "\n",
        "A recursive function is a function that calls itself. If you recall, last class we saw a program to compute the factorial of a number.\n",
        "\n",
        "Follow the below algorithm to see if you can write a recursive program to compute the factorial of a number\n",
        "\n",
        "```\n",
        "Function factorial(n)\n",
        "    Begin\n",
        "      if n == 0 or 1 then\n",
        "        Return 1;\n",
        "      else\n",
        "        Return n* factorial(n-1);\n",
        "      endif\n",
        "    End\n",
        "```"
      ]
    },
    {
      "cell_type": "code",
      "execution_count": null,
      "metadata": {
        "id": "yWvgkCYg1M5o"
      },
      "outputs": [],
      "source": [
        "### YOUR CODE GOES BELOW\n",
        "# this function calculates the factorial of a number\n",
        "def factorial(n):\n",
        "    \n",
        "    # factorial of 0 or 1 is 1\n",
        "    if n == 0 or n == 1: \n",
        "        return 1\n",
        "    else:\n",
        "        return n * factorial(n-1)\n",
        "\n",
        "### END CODE"
      ]
    },
    {
      "cell_type": "markdown",
      "metadata": {
        "id": "pFGEJx6p1M5p"
      },
      "source": [
        "#### Exercise 3 (25 points)\n",
        "\n",
        "Write a Python function that takes a list and returns a new list with unique elements of the first list\n",
        "\n",
        "```\n",
        "Sample List : [1,2,3,3,3,3,4,5]\n",
        "Unique List : [1, 2, 3, 4, 5]\n",
        "```"
      ]
    },
    {
      "cell_type": "code",
      "execution_count": null,
      "metadata": {
        "id": "bLwfOWNa1M5p"
      },
      "outputs": [],
      "source": [
        "### YOUR CODE GOES BELOW\n",
        "def unique_list(lst):\n",
        "    # set() will remove the duplicates and return a set with only unique elements\n",
        "    return list(set(lst))\n",
        "\n",
        "sample_list = [1,2,3,3,3,3,4,5]\n",
        "unique_list = unique_list(sample_list)\n",
        "print(unique_list)  \n",
        "### END CODE"
      ]
    },
    {
      "cell_type": "markdown",
      "metadata": {
        "id": "JWMHf2ww1M5q"
      },
      "source": [
        "#### Exercise 4 (25 points)\n",
        "\n",
        "\n",
        "Write a Python function that accepts a string and calculate the number of upper case letters and lower case letters.\n",
        "```\n",
        "Sample String : 'The quick Brow Fox'\n",
        "\n",
        "Expected Output :\n",
        "No. of Upper case characters : 3\n",
        "No. of Lower case Characters : 12\n",
        "```"
      ]
    },
    {
      "cell_type": "code",
      "execution_count": null,
      "metadata": {
        "id": "SOcwosnr1M5q"
      },
      "outputs": [],
      "source": [
        "### YOUR CODE GOES BELOW\n",
        "def count_case_letters(s):\n",
        "    upper_count = 0\n",
        "    lower_count = 0\n",
        "    for c in s:\n",
        "        if c.isupper():\n",
        "            upper_count += 1\n",
        "        elif c.islower():\n",
        "            lower_count += 1\n",
        "    return f\"No. of Upper case characters : {upper_count}\\nNo. of Lower case Characters : {lower_count}\"\n",
        "\n",
        "sample_string = 'The quick Brow Fox'\n",
        "print(count_case_letters(sample_string))\n",
        "### END CODE"
      ]
    },
    {
      "cell_type": "markdown",
      "metadata": {
        "id": "Euv0La011M5r"
      },
      "source": [
        "## When completed, Save, download the notebook and upload into Canvas"
      ]
    },
    {
      "cell_type": "code",
      "execution_count": null,
      "metadata": {
        "id": "GUyWx_vU1M5r"
      },
      "outputs": [],
      "source": []
    }
  ],
  "metadata": {
    "colab": {
      "provenance": []
    },
    "kernelspec": {
      "display_name": "Python 3",
      "language": "python",
      "name": "python3"
    },
    "language_info": {
      "codemirror_mode": {
        "name": "ipython",
        "version": 3
      },
      "file_extension": ".py",
      "mimetype": "text/x-python",
      "name": "python",
      "nbconvert_exporter": "python",
      "pygments_lexer": "ipython3",
      "version": "3.9.7"
    }
  },
  "nbformat": 4,
  "nbformat_minor": 0
}
