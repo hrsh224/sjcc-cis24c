{
  "cells": [
    {
      "cell_type": "markdown",
      "metadata": {
        "id": "lzhK5LGwy9G2"
      },
      "source": [
        "# CIS024C -  Fall 2024\n",
        "\n",
        "## Homework 6\n",
        "\n",
        "Homework 6 covers exercises that involve working with functions\n",
        "\n",
        "The below sites have some interesting and useful information on working with files\n",
        "\n",
        "https://www.learnpython.org/en/Functions\n",
        "https://www.tutorialspoint.com/python/python_functions.htm\n",
        "\n",
        "You will need to download this notebook and use this as a starting point for your homework. You will just need to fill in the content of each code-block (cell) and execute."
      ]
    },
    {
      "cell_type": "markdown",
      "metadata": {
        "id": "WB5c2uhvy9G3"
      },
      "source": [
        "### Helpful Jupyter Commands\n",
        "\n",
        "Below are some useful commands to know when using Jupyter\n",
        "\n",
        "1. You can add a new cell by clicking on the \"+\" icon on top.\n",
        "2. You can delete a cell by selecting that cell and clicking on the \"scissors\" icon on top.\n",
        "3. You can execute a cell by either pressing shift+enter or selecting the \"play\" button on top.\n",
        "4. You can create a new file in Jupyter via the File menu->New Notebook option. Make sure to select Python 2 when creating your notebook.\n",
        "5. Also, for your code blocks make sure that Code is selected instead of another option like Markdown.\n",
        "6. Use the Enter key to go to the next line in a cell to enter the next statement.\n",
        "7. You can clear results by clicking on the Cell menu item and selecting Current Output->Clear or All Output->Clear depending on whether you are trying to just clear the output for one cell or for all cells.\n",
        "8. In case your program has crashed for some reason (infinite loop, for example), you can restart your Python session by select Kernel in the menu and selecting Restart.\n"
      ]
    },
    {
      "cell_type": "markdown",
      "metadata": {
        "id": "w4PYHHgfy9G4"
      },
      "source": [
        "#### Check Python Version"
      ]
    },
    {
      "cell_type": "code",
      "execution_count": null,
      "metadata": {
        "id": "gumtrZZEy9G4",
        "outputId": "a4992487-5615-4dda-bd84-4d4ef02c71a6"
      },
      "outputs": [],
      "source": [
        "!python --version"
      ]
    },
    {
      "cell_type": "markdown",
      "metadata": {
        "id": "Ajx4E1djy9G5"
      },
      "source": [
        "#### Exercise 1 - Testing your knowledge of functions **\n",
        "\n",
        "Answer the below questions\n",
        "\n",
        "1. What is a function in Python?\n",
        "2. What are the advantages of using functions?"
      ]
    },
    {
      "cell_type": "markdown",
      "metadata": {
        "id": "sdDhm_luy9G6"
      },
      "source": [
        "<< Double click this cell and enter your result >>"
      ]
    },
    {
      "cell_type": "markdown",
      "metadata": {
        "id": "67etkr-Ty9G6"
      },
      "source": [
        "#### Exercise 2 -  Max of three numbers\n",
        "\n",
        "1. Write a Python function to find the maximum of three numbers in a list.\n",
        "2. Write a Python function to find the minimum of three numbers in a list.\n",
        "3. Write a Python function to return the last number in a list.\n",
        "4. Write a Python function to return the first number in a list of numbers\n",
        "\n",
        "The function must accept one list parameter. **You cannot pass in 3 separate numbers to the function**\n",
        "\n",
        "Make sure you invoke this function in your main program and display the result\n",
        "\n",
        "**Note that you must write your own function and not use any of the prebuilt functions like ``max`` or ``min`` **"
      ]
    },
    {
      "cell_type": "code",
      "execution_count": null,
      "metadata": {
        "id": "bz6_5uqFy9G6"
      },
      "outputs": [],
      "source": [
        "### YOUR CODE GOES\n",
        "# Function to find the maximum of three numbers in a list\n",
        "def find_max(numbers):\n",
        "    max_num = numbers[0]\n",
        "    for num in numbers:\n",
        "        if num > max_num:\n",
        "            max_num = num\n",
        "    return max_num\n",
        "\n",
        "# Function to find the minimum of three numbers in a list\n",
        "def find_min(numbers):\n",
        "    min_num = numbers[0]\n",
        "    for num in numbers:\n",
        "        if num < min_num:\n",
        "            min_num = num\n",
        "    return min_num\n",
        "\n",
        "# Function to return the last number in a list\n",
        "def find_last(numbers):\n",
        "    return numbers[-1]\n",
        "\n",
        "# Function to return the first number in a list of numbers\n",
        "def find_first(numbers):\n",
        "    return numbers[0]\n",
        "\n",
        "def main():\n",
        "    numbers = [4, 2, 9]\n",
        "\n",
        "    max_result = find_max(numbers)\n",
        "    min_result = find_min(numbers)\n",
        "    last_result = find_last(numbers)\n",
        "    first_result = find_first(numbers)\n",
        "\n",
        "    print(\"Maximum number in the list is:\", max_result)\n",
        "    print(\"Minimum number in the list is:\", min_result)\n",
        "    print(\"Last number in the list is:\", last_result)\n",
        "    print(\"First number in the list is:\", first_result)\n",
        "\n",
        "if __name__ == \"__main__\":\n",
        "    main()\n",
        "\n",
        "### END CODE"
      ]
    },
    {
      "cell_type": "markdown",
      "metadata": {
        "id": "oxvnI3euy9G6"
      },
      "source": [
        "#### Exercise 3 - Finding the sum of numbers in a list\n",
        "\n",
        "Write a Python function to sum all the numbers in a list\n",
        "\n",
        "Make sure you invoke this function in your main program and display the result\n",
        "\n",
        "Use a while loop to continue asking the user till the user decides to end.\n",
        "\n",
        "**Example**\n",
        "```\n",
        "Enter a list of numbers: 1,2,3\n",
        "The product is 6\n",
        "\n",
        "Do you want to continue(y/n): y\n",
        "\n",
        "Enter a list of numbers: 2,3\n",
        "The product is 5\n",
        "\n",
        "Do you want to continue(y/n): n\n",
        "Program ended\n",
        "```"
      ]
    },
    {
      "cell_type": "code",
      "execution_count": null,
      "metadata": {
        "id": "mUZN-zOyy9G6"
      },
      "outputs": [],
      "source": [
        "### YOUR CODE GOES BELOW\n",
        "# Function to sum all the numbers in a list\n",
        "def sum_numbers(numbers):\n",
        "    total = 0\n",
        "    for num in numbers:\n",
        "        total += num\n",
        "    return total\n",
        "\n",
        "def main():\n",
        "    while True:\n",
        "        # Get user input\n",
        "        user_input = input(\"Enter a comma-seperated list of numbers: \")\n",
        "        numbers = [int(num) for num in user_input.split(\",\")]\n",
        "\n",
        "        # Calculate and display the sum\n",
        "        sum_result = sum_numbers(numbers)\n",
        "        print(\"The sum is:\", sum_result)\n",
        "\n",
        "        # Ask if the user wants to continue\n",
        "        cont = input(\"Do you want to continue (y/n): \")\n",
        "        if cont.lower() != 'y':\n",
        "            break\n",
        "\n",
        "    print(\"Program ended\")\n",
        "\n",
        "if __name__ == \"__main__\":\n",
        "    main()\n",
        "\n",
        "### END CODE"
      ]
    },
    {
      "cell_type": "markdown",
      "metadata": {
        "id": "RhRaVtv0y9G6"
      },
      "source": [
        "#### Exercise 4 - Finding the product of numbers in a list\n",
        "\n",
        "Ask the user to enter a list of numbers. Write a Python function to multiply all the numbers in a list\n",
        "\n",
        "Make sure you invoke this function in your main program and display the result\n",
        "\n",
        "Use a while loop to continue asking the user till the user decides to end.\n",
        "\n",
        "**Example**\n",
        "```\n",
        "Enter a list of numbers: 1,2,3\n",
        "The product is 6\n",
        "\n",
        "Do you want to continue(y/n): y\n",
        "\n",
        "Enter a list of numbers: 2,3\n",
        "The product is 6\n",
        "\n",
        "Do you want to continue(y/n): n\n",
        "Program ended\n",
        "```"
      ]
    },
    {
      "cell_type": "code",
      "execution_count": null,
      "metadata": {
        "id": "32kQZeIVy9G6"
      },
      "outputs": [],
      "source": [
        "### YOUR CODE GOES BELOW\n",
        "# Function to multiply all the numbers in a list\n",
        "def multiply_numbers(numbers):\n",
        "    product = 1\n",
        "    for num in numbers:\n",
        "        product *= num\n",
        "    return product\n",
        "\n",
        "def main():\n",
        "    while True:\n",
        "        # Get user input\n",
        "        user_input = input(\"Enter a list comma seperated of numbers: \")\n",
        "        numbers = [int(num) for num in user_input.split(\",\")]\n",
        "\n",
        "        # Calculate and display the product\n",
        "        product_result = multiply_numbers(numbers)\n",
        "        print(\"The product is:\", product_result)\n",
        "\n",
        "        # Ask if the user wants to continue\n",
        "        cont = input(\"Do you want to continue (y/n): \")\n",
        "        if cont.lower() != 'y':\n",
        "            break\n",
        "\n",
        "    print(\"Program ended\")\n",
        "\n",
        "if __name__ == \"__main__\":\n",
        "    main()\n",
        "\n",
        "### END CODE"
      ]
    },
    {
      "cell_type": "markdown",
      "metadata": {
        "id": "vxk6m-_Xy9G7"
      },
      "source": [
        "#### Exercise 5 - Check for Palindrome\n",
        "\n",
        "Write a Python function to check if a given word is a palindrome\n",
        "\n",
        "* Use the input function to ask the user to enter a word\n",
        "* Validate whether the word is a palendrome and display the status of the validation\n",
        "\n",
        "Note that a palindrome is a word that is spelt the same way forwards and backards, example ** racecar **\n",
        "\n",
        "Make sure you invoke this function in your main program and display the result\n",
        "\n",
        "Use a while loop to continue asking the user till the user decides to end.\n",
        "\n",
        "**Example**\n",
        "```\n",
        "Enter a word: racecar\n",
        "The word is a palindrome\n",
        "\n",
        "Do you want to continue(y/n): y\n",
        "\n",
        "Enter a word: hello\n",
        "The word is not a palindrome\n",
        "\n",
        "Do you want to continue(y/n): n\n",
        "Program ended\n",
        "```"
      ]
    },
    {
      "cell_type": "code",
      "execution_count": null,
      "metadata": {
        "id": "pyjRBpt6y9G7"
      },
      "outputs": [],
      "source": [
        "### YOUR CODE GOES BELOW\n",
        "# Function to check if a word is a palindrome\n",
        "def is_palindrome(word):\n",
        "    return word == word[::-1]\n",
        "\n",
        "def main():\n",
        "    while True:\n",
        "        # Get user input\n",
        "        user_input = input(\"Enter a word: \")\n",
        "\n",
        "        # Check if the word is a palindrome\n",
        "        if is_palindrome(user_input):\n",
        "            print(\"The word is a palindrome\")\n",
        "        else:\n",
        "            print(\"The word is not a palindrome\")\n",
        "\n",
        "        # Ask if the user wants to continue\n",
        "        cont = input(\"Do you want to continue (y/n): \")\n",
        "        if cont.lower() != 'y':\n",
        "            break\n",
        "\n",
        "    print(\"Program ended\")\n",
        "\n",
        "if __name__ == \"__main__\":\n",
        "    main()\n",
        "\n",
        "### END CODE"
      ]
    },
    {
      "cell_type": "markdown",
      "metadata": {
        "id": "XOEEPvqOy9G7"
      },
      "source": [
        "#### Exercise 6 - Finding the factorial of a number without recursion\n",
        "\n",
        "Write a Python function to calculate the factorial of a number (a non-negative integer). The function accepts the number as an argument.\n",
        "\n",
        "Use a while loop to continue asking the user till the user decides to end.\n",
        "\n",
        "**Example**\n",
        "```\n",
        "Enter a number: 6\n",
        "Factorial of 6 is 720\n",
        "\n",
        "Do you want to continue(y/n): y\n",
        "\n",
        "Enter a number: 4\n",
        "Factorial of 4 is 24\n",
        "\n",
        "Do you want to continue(y/n): n\n",
        "Program ended\n",
        "```"
      ]
    },
    {
      "cell_type": "code",
      "execution_count": null,
      "metadata": {
        "id": "a6vnmenXy9G7"
      },
      "outputs": [],
      "source": [
        "### YOUR CODE GOES BELOW\n",
        "# Function to calculate the factorial of a number\n",
        "def factorial(n):\n",
        "    result = 1\n",
        "    for i in range(1, n + 1):\n",
        "        result *= i\n",
        "    return result\n",
        "\n",
        "def main():\n",
        "    while True:\n",
        "        # Get user input\n",
        "        user_input = input(\"Enter a number: \")\n",
        "        num = int(user_input)\n",
        "\n",
        "        # Calculate and display the factorial\n",
        "        fact_result = factorial(num)\n",
        "        print(f\"Factorial of {num} is {fact_result}\")\n",
        "\n",
        "        # Ask if the user wants to continue\n",
        "        cont = input(\"Do you want to continue (y/n): \")\n",
        "        if cont.lower() != 'y':\n",
        "            break\n",
        "\n",
        "    print(\"Program ended\")\n",
        "\n",
        "if __name__ == \"__main__\":\n",
        "    main()\n",
        "\n",
        "### END CODE"
      ]
    },
    {
      "cell_type": "markdown",
      "metadata": {
        "id": "gqVw3CmRy9G8"
      },
      "source": [
        "#### Exercise 7 - Finding the factorial of a number using recursion\n",
        "\n",
        "Write a Python function to calculate the factorial of a number (a non-negative integer). The function accepts the number as an argument.\n",
        "\n",
        "Use a while loop to continue asking the user till the user decides to end.\n",
        "\n",
        "**Example**\n",
        "```\n",
        "Enter a number: 6\n",
        "Factorial of 6 is 720\n",
        "\n",
        "Do you want to continue(y/n): y\n",
        "\n",
        "Enter a number: 4\n",
        "Factorial of 4 is 24\n",
        "\n",
        "Do you want to continue(y/n): n\n",
        "Program ended\n",
        "```"
      ]
    },
    {
      "cell_type": "code",
      "execution_count": null,
      "metadata": {
        "id": "xf3M768Iy9G8"
      },
      "outputs": [],
      "source": [
        "### YOUR CODE GOES BELOW\n",
        "# Function to calculate the factorial of a number\n",
        "def factorial(n):\n",
        "    result = 1\n",
        "    i = 1\n",
        "    while i <= n:\n",
        "        result *= i\n",
        "        i += 1\n",
        "    return result\n",
        "\n",
        "def main():\n",
        "    while True:\n",
        "        # Get user input\n",
        "        user_input = input(\"Enter a number: \")\n",
        "        num = int(user_input)\n",
        "\n",
        "        # Calculate and display the factorial\n",
        "        fact_result = factorial(num)\n",
        "        print(f\"Factorial of {num} is {fact_result}\")\n",
        "\n",
        "        # Ask if the user wants to continue\n",
        "        cont = input(\"Do you want to continue (y/n): \")\n",
        "        if cont.lower() != 'y':\n",
        "            break\n",
        "\n",
        "    print(\"Program ended\")\n",
        "\n",
        "if __name__ == \"__main__\":\n",
        "    main()\n",
        "\n",
        "### END CODE"
      ]
    },
    {
      "cell_type": "markdown",
      "metadata": {
        "id": "7JY6hnQjy9G8"
      },
      "source": [
        "#### Exercise 8 - Check if number falls in a given range\n",
        "\n",
        "Write a Python function to check whether a number falls in a given range. The function accepts 3 parameters, the lower limit of the range, the upper limit of the range, and the number.\n",
        "\n",
        "Use a while loop to continue asking the user till the user decides to end.\n",
        "\n",
        "The function parameters should be as follows\n",
        "```\n",
        "def checkNumberInRange(lowerLimit, upperLimit, number):\n",
        "```\n",
        "\n",
        "\n",
        "**Example**\n",
        "```\n",
        "Enter the lower limit: 2\n",
        "Enter the upper limit: 200\n",
        "Enter the number: 100\n",
        "The number falls within the range\n",
        "\n",
        "Do you want to continue(y/n): y\n",
        "\n",
        "Enter the lower limit: 2\n",
        "Enter the upper limit: 200\n",
        "Enter the number: 1000\n",
        "The number falls outside the range\n",
        "\n",
        "Do you want to continue(y/n): n\n",
        "Program ended\n",
        "```\n",
        "\n"
      ]
    },
    {
      "cell_type": "code",
      "execution_count": null,
      "metadata": {
        "id": "vA71JZdCy9G9"
      },
      "outputs": [],
      "source": [
        "### YOUR CODE GOES BELOW\n",
        "# Function to check whether a number falls in a given range\n",
        "def checkNumberInRange(lowerLimit, upperLimit, number):\n",
        "    if lowerLimit <= number <= upperLimit:\n",
        "        return \"The number falls within the range\"\n",
        "    else:\n",
        "        return \"The number falls outside the range\"\n",
        "\n",
        "def main():\n",
        "    while True:\n",
        "        # Get user input\n",
        "        lower_limit = int(input(\"Enter the lower limit: \"))\n",
        "        upper_limit = int(input(\"Enter the upper limit: \"))\n",
        "        number = int(input(\"Enter the number: \"))\n",
        "\n",
        "        # Check if the number falls in the range\n",
        "        result = checkNumberInRange(lower_limit, upper_limit, number)\n",
        "        print(result)\n",
        "\n",
        "        # Ask if the user wants to continue\n",
        "        cont = input(\"Do you want to continue (y/n): \")\n",
        "        if cont.lower() != 'y':\n",
        "            break\n",
        "\n",
        "    print(\"Program ended\")\n",
        "\n",
        "if __name__ == \"__main__\":\n",
        "    main()\n",
        "\n",
        "### END CODE"
      ]
    },
    {
      "cell_type": "markdown",
      "metadata": {
        "id": "IS8Kny7iy9G9"
      },
      "source": [
        "#### Exercise 9 - Assign a different name to a function\n",
        "\n",
        "1. Create a function **findSum** using the **sum** function to find the sum of 3 numbers\n",
        "2. Create a variable **myFindSum** and assign the **findSum** function to **myFindSum**\n",
        "3. Invoke the **myFindSum** function with the numbers 6,7,2 and display the result\n"
      ]
    },
    {
      "cell_type": "code",
      "execution_count": null,
      "metadata": {
        "id": "XbNZJpLuy9G9"
      },
      "outputs": [],
      "source": [
        "### YOUR CODE GOES BELOW\n",
        "# Function to find the sum of 3 numbers\n",
        "def findSum(a, b, c):\n",
        "    return sum([a, b, c])\n",
        "\n",
        "# Assign the findSum function to myFindSum\n",
        "myFindSum = findSum\n",
        "\n",
        "# Invoke the myFindSum function and display the result\n",
        "result = myFindSum(6, 7, 2)\n",
        "print(\"The sum is:\", result)\n",
        "\n",
        "### END CODE"
      ]
    },
    {
      "cell_type": "markdown",
      "metadata": {
        "id": "-XhofkK9y9G9"
      },
      "source": [
        "#### Exercise 10 - Using default arguments\n",
        "\n",
        "Write a program to create a function show_employee() using the following conditions.\n",
        "\n",
        "It should accept the employee’s name and salary and display both.\n",
        "If the salary is missing in the function call then assign default value 8000 to salary\n",
        "\n",
        "Use a while loop to continue asking the user till the user decides to end.\n",
        "\n",
        "**Example**\n",
        "```\n",
        "Enter employee's name: John\n",
        "Enter salary: 10000\n",
        "\n",
        "Employee name is John and salary is 10000\n",
        "\n",
        "Do you want to continue(y/n): y\n",
        "\n",
        "Enter employee's name: Bob\n",
        "Enter salary:\n",
        "\n",
        "Employee's name is Bob and salary is 8000\n",
        "\n",
        "Do you want to continue(y/n): n\n",
        "Program ended\n",
        "```"
      ]
    },
    {
      "cell_type": "code",
      "execution_count": null,
      "metadata": {
        "id": "Xzqa5re7y9G9"
      },
      "outputs": [],
      "source": [
        "### YOUR CODE GOES BELOW\n",
        "def show_employee(name, salary=8000):\n",
        "    print(f\"Employee name is {name} and salary is {salary}\")\n",
        "\n",
        "def main():\n",
        "    while True:\n",
        "        name = input(\"Enter employee's name: \")\n",
        "        salary = input(\"Enter salary: \")\n",
        "        if salary:\n",
        "            salary = int(salary)\n",
        "        show_employee(name, salary)\n",
        "        cont = input(\"Do you want to continue (y/n): \")\n",
        "        if cont.lower() != 'y':\n",
        "            break\n",
        "    print(\"Program ended\")\n",
        "\n",
        "if __name__ == \"__main__\":\n",
        "    main()\n",
        "\n",
        "### END CODE"
      ]
    }
  ],
  "metadata": {
    "colab": {
      "provenance": []
    },
    "kernelspec": {
      "display_name": "Python 3",
      "language": "python",
      "name": "python3"
    },
    "language_info": {
      "codemirror_mode": {
        "name": "ipython",
        "version": 3
      },
      "file_extension": ".py",
      "mimetype": "text/x-python",
      "name": "python",
      "nbconvert_exporter": "python",
      "pygments_lexer": "ipython3",
      "version": "3.9.7"
    }
  },
  "nbformat": 4,
  "nbformat_minor": 0
}
