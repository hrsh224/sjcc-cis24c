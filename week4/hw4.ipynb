{
  "cells": [
    {
      "cell_type": "markdown",
      "metadata": {
        "id": "O4xBTO_aOjFP"
      },
      "source": [
        "\n",
        "# CIS024C -  Fall 2024 - HW4\n",
        "\n",
        "## Homework 4\n",
        "\n",
        "Homework 4 covers exercises in basic collection objects in Python - lists, tuples and dictionaries.\n",
        "\n",
        "The below sites have some interesting and useful information on these objects.\n",
        "\n",
        "http://sthurlow.com/python/lesson06/\n",
        "https://docs.python.org/2/tutorial/datastructures.html\n",
        "\n",
        "You will need to download this notebook and use this as a starting point for your homework. You will just need to fill in the content of each code-block (cell) and execute. Once you have completed all the exercises, you will need to save and upload this to your Canvas\n",
        "\n",
        "Note also the exercises build on top of one another so you might be able to do the next exercise if you have not completed the previous exercise."
      ]
    },
    {
      "cell_type": "markdown",
      "metadata": {
        "id": "m_JzN1chOjFR"
      },
      "source": [
        "### Helpful Jupyter Commands\n",
        "\n",
        "Below are some useful commands to know when using Jupyter\n",
        "\n",
        "1. You can add a new cell by clicking on the \"+\" icon on top.\n",
        "2. You can delete a cell by selecting that cell and clicking on the \"scissors\" icon on top.\n",
        "3. You can execute a cell by either pressing shift+enter or selecting the \"play\" button on top.\n",
        "4. You can create a new file in Jupyter via the File menu->New Notebook option. Make sure to select Python 2 when creating your notebook.\n",
        "5. Also, for your code blocks make sure that Code is selected instead of another option like Markdown.\n",
        "6. Use the Enter key to go to the next line in a cell to enter the next statement.\n",
        "7. You can clear results by clicking on the Cell menu item and selecting Current Output->Clear or All Output->Clear depending on whether you are trying to just clear the output for one cell or for all cells.\n",
        "8. In case your program has crashed for some reason (infinite loop, for example), you can restart your Python session by select Kernel in the menu and selecting Restart.\n"
      ]
    },
    {
      "cell_type": "markdown",
      "metadata": {
        "id": "gupAjuWyOjFR"
      },
      "source": [
        "#### Check Python Version"
      ]
    },
    {
      "cell_type": "code",
      "execution_count": null,
      "metadata": {
        "id": "W39LBhNfOjFS",
        "outputId": "6ad46750-6a4e-44a3-8c76-5a791b300cd8"
      },
      "outputs": [],
      "source": [
        "!python --version"
      ]
    },
    {
      "cell_type": "markdown",
      "metadata": {
        "id": "xqHm_V35OjFS"
      },
      "source": [
        "#### Sample Exercises with conditionals and repetitions\n",
        "\n",
        "Refer to Week 4 classwork for sample exercises - https://github.com/cis024c/spring2018classwork/tree/master/week4"
      ]
    },
    {
      "cell_type": "markdown",
      "metadata": {
        "id": "xuLEy5MNOjFT"
      },
      "source": [
        "**Exercise 1 - Testing your knowledge of lists, tuples and dictionaries**\n",
        "\n",
        "Answer the below questions\n",
        "\n",
        "1. Are lists mutable? Yes or No\n",
        "2. Are tuples mutable? Yes or No\n",
        "3. A dictionary is initialized using square brackets? True or False\n",
        "4. If x is a tuple of the form ```x=(1,2,3)```, the operation ```x[0]=1``` is a valid operation? True or False\n",
        "\n",
        "Your answer should be of the form\n",
        "1. your response\n",
        "2. your response\n",
        "3. your response\n",
        "4. your response\n"
      ]
    },
    {
      "cell_type": "markdown",
      "metadata": {
        "id": "Wvgtp9NiOjFT"
      },
      "source": [
        "<< Double click this cell and enter your result >>"
      ]
    },
    {
      "cell_type": "markdown",
      "metadata": {
        "id": "v29iA5UGOjFT"
      },
      "source": [
        "#### Exercise 2 -  Initializing a list, tuple and dictionary\n",
        "\n",
        "1. Initialize a list variable **myList** using square brackets with the number 10,20,30. Display the list\n",
        "2. Initialize a tuple variable **myTuple** using parenthesis with the names John, Adams, Christopher. Display the tuple.\n",
        "3. Initialize a dictionary variable **myDictionary**. The key values should be following. Note that the key is an integer variable, but the value is a string variable\n",
        "```\n",
        "1:Red\n",
        "2:Blue\n",
        "3:Green\n",
        "```"
      ]
    },
    {
      "cell_type": "code",
      "execution_count": null,
      "metadata": {
        "id": "ozj5gowVOjFT"
      },
      "outputs": [],
      "source": [
        "### YOUR CODE GOES\n",
        "\n",
        "# Define a list\n",
        "myList = [10, 20, 30]\n",
        "print(myList)  \n",
        "\n",
        "# Define a tuple\n",
        "myTuple = (\"John\", \"Adams\", \"Christopher\")\n",
        "print(myTuple)  \n",
        "\n",
        "# Define a dictionary\n",
        "myDictionary = {\n",
        "    1: \"Red\",\n",
        "    2: \"Blue\",\n",
        "    3: \"Green\"\n",
        "}\n",
        "print(myDictionary)  # Output: {1: 'Red', 2: 'Blue', 3: 'Green'}\n",
        "\n",
        "### END CODE"
      ]
    },
    {
      "cell_type": "markdown",
      "metadata": {
        "id": "vZ8G-tQHOjFT"
      },
      "source": [
        "#### Exercise 3 - Displaying values in a list object\n",
        "\n",
        "Create a list object with 10 arbitrary numbers. Use a **for loop** to display only the odd numbers in the list.\n",
        "\n",
        "**Example:**\n",
        "\n",
        "If your list has ```[2,3,4,5,6]```, then you will need to display ```[3,5]```\n"
      ]
    },
    {
      "cell_type": "code",
      "execution_count": null,
      "metadata": {
        "id": "4GFhLqnyOjFT"
      },
      "outputs": [],
      "source": [
        "### YOUR CODE GOES BELOW\n",
        "# Create a list with 10 numbers\n",
        "numbers = [12, 13, 14, 15, 16, 17, 18, 19, 20, 21] \n",
        "\n",
        "# Iterate through the list and print only odd numbers\n",
        "for num in numbers:\n",
        "    if num % 2 != 0:\n",
        "        print(num)\n",
        "### END CODE"
      ]
    },
    {
      "cell_type": "markdown",
      "metadata": {
        "id": "Ypado3ohOjFT"
      },
      "source": [
        "#### Exercise 4 - Sorting a list of strings\n",
        "\n",
        "Ask the user to enter a list of names. Sort the names in descending order.\n",
        "\n",
        "Use the list's **sort** function\n",
        "\n",
        "https://www.w3schools.com/python/ref_list_sort.asp"
      ]
    },
    {
      "cell_type": "code",
      "execution_count": null,
      "metadata": {
        "id": "0BNhoHPVOjFU"
      },
      "outputs": [],
      "source": [
        "### YOUR CODE GOES BELOW\n",
        "# Ask the user to enter a list of names\n",
        "names = input(\"Enter a list of names (separated by commas): \").split(\",\")\n",
        "\n",
        "# Remove leading spaces from each name\n",
        "names = [name.strip() for name in names]\n",
        "\n",
        "# Put the names in descending order\n",
        "names.sort(reverse=True)\n",
        "\n",
        "print(\"Sorted list of names in descending order:\")\n",
        "print(names)\n",
        "### END CODE"
      ]
    },
    {
      "cell_type": "markdown",
      "metadata": {
        "id": "9qqW1PPKOjFU"
      },
      "source": [
        "#### Exercise 5 - Accessing values in a dictionary object\n",
        "\n",
        "Initialize a dictionary object with the below key, value pairs\n",
        "\n",
        " Key  | Value\n",
        " -----|------\n",
        "'Harry'|'Teacher'\n",
        "'Sally'|'Scientist'\n",
        "'Joe'|'Farmer'\n",
        "'Mathew'|'Detective'\n",
        "\n",
        "Use a while loop to ask the user to enter a name, and display the corresponding value. If the name is not found, display \"Could not find user\"\n",
        "\n",
        "At the end of each iteration, ask the user if they want to continue. If the user wants to continue, repeat the question, otherwise, terminate the while loop and display the message \"Program ended\"\n",
        "\n",
        "**Example**\n",
        "```\n",
        "Enter a name: Harry\n",
        "Occupation is Teacher\n",
        "\n",
        "Do you want to continue(y/n): y\n",
        "\n",
        "Enter a name: Joe\n",
        "Occupation is Farmer\n",
        "\n",
        "Enter a name: Mark\n",
        "Could not find user\n",
        "\n",
        "Do you want to continue(y/n): n\n",
        "Program ended\n",
        "```"
      ]
    },
    {
      "cell_type": "code",
      "execution_count": null,
      "metadata": {
        "id": "U0aZEtABOjFU"
      },
      "outputs": [],
      "source": [
        "### YOUR CODE GOES BELOW\n",
        "\n",
        "# Initialize a dictionary with below key/value pairs\n",
        "users = {\n",
        "    'Harry': 'Teacher',\n",
        "    'Sally': 'Scientist',\n",
        "    'Joe': 'Farmer',\n",
        "    'Mathew': 'Detective'\n",
        "}\n",
        "\n",
        "continue_loop = True\n",
        "\n",
        "# Run the loop until user says \"n\"\n",
        "while continue_loop:\n",
        "    # Ask the user to enter a name\n",
        "    name = input(\"Enter a name: \")\n",
        "\n",
        "    # Check if the name is in the dictionary\n",
        "    if name in users:\n",
        "        # Display the corresponding occupation\n",
        "        print(f\"Occupation is {users[name]}\")\n",
        "    else:\n",
        "        # Display \"Could not find user\" if the name is not found\n",
        "        print(\"Could not find user\")\n",
        "\n",
        "    # Ask the user if they want to continue\n",
        "    response = input(\"Do you want to continue (y/n): \")\n",
        "\n",
        "    # Check the user's response\n",
        "    if response.lower() != 'y':\n",
        "        # Set the while loop condition to False to terminate the loop\n",
        "        continue_loop = False\n",
        "\n",
        "# Display the message \"Program ended\"\n",
        "print(\"Program ended\")\n",
        "\n",
        "### END CODE"
      ]
    }
  ],
  "metadata": {
    "colab": {
      "provenance": []
    },
    "kernelspec": {
      "display_name": "Python 3",
      "language": "python",
      "name": "python3"
    },
    "language_info": {
      "codemirror_mode": {
        "name": "ipython",
        "version": 3
      },
      "file_extension": ".py",
      "mimetype": "text/x-python",
      "name": "python",
      "nbconvert_exporter": "python",
      "pygments_lexer": "ipython3",
      "version": "3.9.7"
    }
  },
  "nbformat": 4,
  "nbformat_minor": 0
}
