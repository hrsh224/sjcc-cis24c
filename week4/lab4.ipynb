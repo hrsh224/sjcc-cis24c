{
  "cells": [
    {
      "cell_type": "markdown",
      "metadata": {
        "id": "JhY6FAw2Nix7"
      },
      "source": [
        "# CIS024C -  Fall 2024 - Lab 4\n",
        "\n",
        "## Lab 4\n",
        "\n",
        "**Lab 4 consists the below topics**\n",
        "\n",
        "* Structured Data\n",
        "\n",
        "- Lists\n",
        "\n",
        "- Tuples\n",
        "\n",
        "- Dictionary\n",
        "\n",
        "Feel free to search the web for how you can solve these exercises.\n",
        "\n",
        "We will review them during class.\n",
        "\n",
        "**Students will be given partial credit for attemping to solve the exercises. You will be given the solutions during class and are required to use the solution to update your lab with the correct solutions**\n",
        "\n",
        "You will need to download this notebook and use this as a starting point for your homework. You will just need to fill in the content of each code-block (cell) and execute. Once you have completed all the exercises, you will need to save this notebook and upload it into Canvas.\n",
        "\n",
        "Note also the exercises build on top of one another so you might be able to do the next exercise if you have not completed the previous exercise.\n",
        "\n",
        "Post any questions you have on our Slack discussions channel"
      ]
    },
    {
      "cell_type": "markdown",
      "metadata": {
        "id": "WC7HbTwgNix9"
      },
      "source": [
        "#### Exercise 1 (20 points)\n",
        "\n",
        "Write a Python script to accept a list of integers from the user, sort a list of integers in descending order, and display the result"
      ]
    },
    {
      "cell_type": "code",
      "execution_count": null,
      "metadata": {
        "id": "XShGnSnFNix9"
      },
      "outputs": [],
      "source": [
        "### YOUR CODE GOES BELOW\n",
        "# accept the user input\n",
        "user_input = input(\"Enter a list of integers (separated by space): \")\n",
        "integers = [] # initialize an empty list\n",
        "\n",
        "# split the list and itterate through, add it to the list\n",
        "for x in user_input.split():\n",
        "    integers.append(int(x))\n",
        "\n",
        "#sort the list in descending order\n",
        "integers.sort(reverse=True)\n",
        "\n",
        "print(\"Sorted list in descending order:\", integers)\n",
        "### END CODE"
      ]
    },
    {
      "cell_type": "markdown",
      "metadata": {
        "id": "dI2AEdVWNix-"
      },
      "source": [
        "#### Exercise 2 (20 points)\n",
        "\n",
        "1. Prompt the user to enter five key:value pairs. This could be employee_id and employee_name. For example:\n",
        "\n",
        "{1:'Bob',23:'Joe',3:'Sam'}\n",
        "\n",
        "2. Display the employees in ascending order of their names."
      ]
    },
    {
      "cell_type": "code",
      "execution_count": null,
      "metadata": {
        "id": "OT3-wSBmNix-"
      },
      "outputs": [],
      "source": [
        "### YOUR CODE GOES BELOW\n",
        "employee_data = {} # initialize empty dictionary\n",
        "\n",
        "for i in range(2):\n",
        "    employee_id = input(f\"Enter employee ID {i+1}: \")\n",
        "    employee_name = input(f\"Enter employee name {i+1}: \")\n",
        "    \n",
        "    #populate the dictionary with key values\n",
        "    employee_data[employee_name] = employee_id\n",
        "\n",
        "print(\"Employee Data:\")\n",
        "for employee_name, employee_id in sorted(employee_data.items()):\n",
        "    print(f\"Employee ID: {employee_id}, Employee Name: {employee_name}\")\n",
        "\n",
        "### END CODE"
      ]
    },
    {
      "cell_type": "markdown",
      "metadata": {
        "id": "R7PYSIo0Nix-"
      },
      "source": [
        "#### Exercise 3 (20 points)\n",
        "\n",
        "1. Accept two separate lists of integers from the user.\n",
        "\n",
        "2. Write a Python script to concatenate two lists to create a new one\n",
        "\n",
        "3. Display the resulting list\n"
      ]
    },
    {
      "cell_type": "code",
      "execution_count": null,
      "metadata": {
        "id": "3kvrmoCHNix_"
      },
      "outputs": [],
      "source": [
        "### YOUR CODE GOES BELOW\n",
        "user_input1 = input(\"Enter the first list of integers (separated by spaces): \")\n",
        "list1 = [int(x) for x in user_input1.split()]\n",
        "\n",
        "user_input2 = input(\"Enter the second list of integers (separated by spaces): \")\n",
        "list2 = [int(x) for x in user_input2.split()]\n",
        "\n",
        "# concatenate two lists\n",
        "result_list = list1 + list2\n",
        "\n",
        "print(\"Resulting list:\", result_list)\n",
        "\n",
        "### END CODE"
      ]
    },
    {
      "cell_type": "markdown",
      "metadata": {
        "id": "Dqb4CSxcNix_"
      },
      "source": [
        "#### Exercise 4 (20 points)\n",
        "\n",
        "1. Accept two separate dictionaries of integers from the user. It could be the same employee id: employee_name dictionary from Exercise 2.\n",
        "\n",
        "2. Write a Python script to concatenate the two dictionaries to create a new one\n",
        "\n",
        "3. Display the resulting dictionary\n"
      ]
    },
    {
      "cell_type": "code",
      "execution_count": null,
      "metadata": {
        "id": "zPHBqXvLNix_"
      },
      "outputs": [],
      "source": [
        "### YOUR CODE GOES BELOW\n",
        "# Get the first dictionary from the user\n",
        "dict1 = {} # initialize first dictionary\n",
        "dict2 = {} # initialize second dictionary\n",
        "\n",
        "user_input1 = input(\"Enter a list of key-value pairs for Dictionary 1 (separated by space, e.g., '1:John 2:David 3:Michael'): \")\n",
        "for pair in user_input1.split():\n",
        "    key, value = pair.split(':')\n",
        "    dict1[int(key)] = value\n",
        "\n",
        "user_input2 = input(\"Enter a list of key-value pairs for Dictionary 2 (separated by space, e.g., '1:Alice 2:Bob 3:Charlie'): \")\n",
        "for pair in user_input2.split():\n",
        "    key, value = pair.split(':')\n",
        "    dict2[int(key)] = value\n",
        "\n",
        "# Unpack and Concatenate the dictionaries\n",
        "concatenated_dict = {**dict1, **dict2}\n",
        "\n",
        "\n",
        "print(\"Concatenated Dictionary:\", concatenated_dict)\n",
        "\n",
        "### END CODE"
      ]
    },
    {
      "cell_type": "markdown",
      "metadata": {
        "id": "6gvwEt4SNix_"
      },
      "source": [
        "#### Exercise 5 (20 points)\n",
        "\n",
        "\n",
        "1. Prompt the user to enter five key:value pairs. This could be employee_id and employee_name. For example:\n",
        "\n",
        "{1:'Bob',23,'Joe',3:'Sam'}\n",
        "\n",
        "2. Display the employees in ascending order of their names.\n",
        "\n",
        "(note above steps are from problem 2)\n",
        "\n",
        "3. Start a While loop and ask the user to enter a new key and employee name, to add to the dictionary. From within the While loop, check if the key already exists and if it exists, display a message indicating the Key already exists; otherwise, proceed to add the new id and key to the dictionary. If the user enters an id of -1 break from the While loop\n"
      ]
    },
    {
      "cell_type": "code",
      "execution_count": null,
      "metadata": {
        "id": "aaY_4dwfNix_"
      },
      "outputs": [],
      "source": [
        "### YOUR CODE GOES BELOW\n",
        "# Prompt the user to enter five key-value pairs\n",
        "employee_data = {}\n",
        "for i in range(5):\n",
        "    employee_id = int(input(f\"Enter employee ID {i+1}: \"))\n",
        "    employee_name = input(f\"Enter employee name {i+1}: \")\n",
        "    employee_data[employee_id] = employee_name\n",
        "\n",
        "# Display the employees in ascending order of their names\n",
        "for employee_id, employee_name in sorted(employee_data.items(), key=lambda x: x[1]):\n",
        "    print(f\"Employee ID: {employee_id}, Employee Name: {employee_name}\")\n",
        "\n",
        "# Start a While loop to add new employees\n",
        "while True:\n",
        "    new_id = int(input(\"Enter a new employee ID (-1 to stop): \"))\n",
        "    if new_id == -1:\n",
        "        break\n",
        "    new_name = input(\"Enter a new employee name: \")\n",
        "    if new_id in employee_data:\n",
        "        print(\"Key already exists!\")\n",
        "    else:\n",
        "        employee_data[new_id] = new_name\n",
        "        print(\"Employee added successfully!\")\n",
        "\n",
        "# Display the updated employees in ascending order of their names\n",
        "for employee_id, employee_name in sorted(employee_data.items(), key=lambda x: x[1]):\n",
        "    print(f\"Employee ID: {employee_id}, Employee Name: {employee_name}\")\n",
        "    \n",
        "### END CODE"
      ]
    },
    {
      "cell_type": "markdown",
      "metadata": {
        "id": "S_d2sJ73Nix_"
      },
      "source": [
        "## When completed, Save, download the notebook and upload into Canvas"
      ]
    },
    {
      "cell_type": "code",
      "execution_count": null,
      "metadata": {
        "id": "Z92Iri7ANix_"
      },
      "outputs": [],
      "source": []
    }
  ],
  "metadata": {
    "colab": {
      "provenance": []
    },
    "kernelspec": {
      "display_name": "Python 3",
      "language": "python",
      "name": "python3"
    },
    "language_info": {
      "codemirror_mode": {
        "name": "ipython",
        "version": 3
      },
      "file_extension": ".py",
      "mimetype": "text/x-python",
      "name": "python",
      "nbconvert_exporter": "python",
      "pygments_lexer": "ipython3",
      "version": "3.9.7"
    }
  },
  "nbformat": 4,
  "nbformat_minor": 0
}
