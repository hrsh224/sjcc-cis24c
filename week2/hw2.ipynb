{
  "cells": [
    {
      "cell_type": "markdown",
      "metadata": {
        "id": "ypbIZ_3PkAfg"
      },
      "source": [
        "\n",
        "# CIS024C -  Spring 2024\n",
        "\n",
        "## Homework 2\n",
        "\n",
        "Homework 2 covers exercises in Conditionals and Repetition. It involves the user of the if..elif..else statements and the for/while loops.\n",
        "\n",
        "You will need to download this notebook and use this as a starting point for your homework. You will just need to fill in the content of each code-block (cell) and execute. Once you have completed all the exercises, you will need to save and upload this to Canvas.\n",
        "\n",
        "Note also the exercises build on top of one another so you might be able to do the next exercise if you have not completed the previous exercise.\n",
        "\n",
        "**Please refer back to hw1 and slack for instructions on how to setup your computer for developing using Python.**"
      ]
    },
    {
      "cell_type": "markdown",
      "metadata": {
        "id": "PES_fbCnkAfk"
      },
      "source": [
        "### Helpful Jupyter Commands\n",
        "\n",
        "Below are some useful commands to know when using Jupyter\n",
        "\n",
        "1. You can add a new cell by clicking on the \"+\" icon on top.\n",
        "2. You can delete a cell by selecting that cell and clicking on the \"scissors\" icon on top.\n",
        "3. You can execute a cell by either pressing shift+enter or selecting the \"play\" button on top.\n",
        "4. You can create a new file in Jupyter via the File menu->New Notebook option. Make sure to select Python 2 when creating your notebook.\n",
        "5. Also, for your code blocks make sure that Code is selected instead of another option like Markdown.\n",
        "6. Use the Enter key to go to the next line in a cell to enter the next statement.\n",
        "7. You can clear results by clicking on the Cell menu item and selecting Current Output->Clear or All Output->Clear depending on whether you are trying to just clear the output for one cell or for all cells.\n",
        "8. In case your program has crashed for some reason (infinite loop, for example), you can restart your Python session by select Kernel in the menu and selecting Restart.\n"
      ]
    },
    {
      "cell_type": "markdown",
      "metadata": {
        "id": "fU8K5SHGkAfk"
      },
      "source": [
        "#### Check Python Version"
      ]
    },
    {
      "cell_type": "code",
      "execution_count": null,
      "metadata": {
        "id": "5-EUfHH6kAfl",
        "outputId": "32074cc6-08bf-4f81-936c-bfa3c7997efa"
      },
      "outputs": [
        {
          "name": "stdout",
          "output_type": "stream",
          "text": [
            "Python 3.7.6\r\n"
          ]
        }
      ],
      "source": [
        "!python --version"
      ]
    },
    {
      "cell_type": "markdown",
      "metadata": {
        "id": "Z6mR_KGQkAfn"
      },
      "source": [
        "#### Exercise 1 - if statement\n",
        "\n",
        "Write a python program to accept a number from the user. Use the **if** statement to check to see if the number is greater than 100. If the number is greater than 1000, print the message \"Found a number greater than 1000\""
      ]
    },
    {
      "cell_type": "code",
      "execution_count": null,
      "metadata": {
        "id": "fQa0laoZkAfn"
      },
      "outputs": [],
      "source": [
        "### YOUR CODE GOES\n",
        "\n",
        "\n",
        "### END CODE"
      ]
    },
    {
      "cell_type": "markdown",
      "metadata": {
        "id": "nYTxVHwBkAfn"
      },
      "source": [
        "#### Exercise 2 - if...else statement\n",
        "\n",
        "Write a python program to accept the name of a user. Use the **if** statement to check to see if the name is \"Tara\". If the name is \"Tara\", print the message \"Tara found!\", otherwise if the name is not \"Tara\", print a message saying that \"Still searching for Tara..\""
      ]
    },
    {
      "cell_type": "code",
      "execution_count": null,
      "metadata": {
        "id": "PPBhCs2RkAfn"
      },
      "outputs": [],
      "source": [
        "### YOUR CODE GOES BELOW\n",
        "\n",
        "\n",
        "### END CODE"
      ]
    },
    {
      "cell_type": "markdown",
      "metadata": {
        "id": "7qU_obkUkAfn"
      },
      "source": [
        "#### Exercise 3 - for loop\n",
        "\n",
        "Write a program to get an integer number greater than 10 from the user. Find the sum of all numbers from 10 up to the number that the user entered.\n",
        "\n",
        "For example, if the user enters 15, then you would need to find the sum of all numbers from 10 to 15 (including 15). Use the range statement in the for loop.\n",
        "\n",
        "Example: If user enters 15 then the sum is\n",
        "```\n",
        "10+11+12+13+14+15 = 75\n",
        "```\n",
        "\n",
        "Print the result.\n",
        "\n",
        "Please check your work to make sure that the result is accurate.\n",
        "\n",
        "Make sure to use the for loop"
      ]
    },
    {
      "cell_type": "code",
      "execution_count": null,
      "metadata": {
        "id": "P4Vz7ocJkAfo"
      },
      "outputs": [],
      "source": [
        "### YOUR CODE GOES BELOW\n",
        "\n",
        "\n",
        "### END CODE"
      ]
    },
    {
      "cell_type": "markdown",
      "metadata": {
        "id": "HhipdWlykAfo"
      },
      "source": [
        "#### Exercise 4 - while loop\n",
        "\n",
        "**Guess the number!**\n",
        "\n",
        "Initialize a variable called **myNumber** to any arbitrary value. For example, maybe you thought of a number 7\n",
        "\n",
        "Using the **while** loop ask the user to enter a number and check for a match. Terminate the while loop using the **break** statement if the correct number if found and display the message \"Good guess!!!\", otherwise continue with the **while** loop till the number if found.\n",
        "\n",
        "If the user enters -1, terminate the while loop with the message \"Ending program.\"\n"
      ]
    },
    {
      "cell_type": "code",
      "execution_count": null,
      "metadata": {
        "id": "NxznL-1SkAfo"
      },
      "outputs": [],
      "source": [
        "### YOUR CODE GOES BELOW\n",
        "\n",
        "\n",
        "### END CODE"
      ]
    },
    {
      "cell_type": "markdown",
      "metadata": {
        "id": "wLIs2u-lkAfp"
      },
      "source": [
        "#### Exercise 5 - if-elif-else\n",
        "\n",
        "* Use the input function to get the user's blood group (Grade can be A, B, AB and O)\n",
        "* Use the **if** statement to compare the blood group\n",
        "* If grade is A - print \"Your blood group is Type A\"\n",
        "* If grade is B - print \"Your blood group is Type B\"\n",
        "* If grade is AB - print \"Your blood group is Type AB\"\n",
        "* If grade is O - print \"Your blood group is Type O\"\n",
        "* If grade does not match one of the above, print \"Unknown blood group\"\n",
        "\n",
        "Make sure to use the if, elif and else in your exercise\n",
        "\n",
        "Refer to class lecture slides on the **if** statement in case it is unclear how to use the if and the else statement."
      ]
    },
    {
      "cell_type": "code",
      "execution_count": null,
      "metadata": {
        "id": "ELNpAJn9kAfp"
      },
      "outputs": [],
      "source": [
        "### YOUR CODE GOES BELOW\n",
        "\n",
        "\n",
        "### END CODE"
      ]
    },
    {
      "cell_type": "markdown",
      "metadata": {
        "id": "orAEk7LBkAfp"
      },
      "source": [
        "## OPTIONAL EXERCISES\n",
        "\n",
        "Below is a set of optional exercises. These will not be graded but the solutions will be posted. I would strongly encourage you to try these out if you are done with the mandatory homework exercises to improve your understanding of python."
      ]
    },
    {
      "cell_type": "markdown",
      "metadata": {
        "id": "5QTh8LookAfp"
      },
      "source": [
        "#### Exercise 6\n",
        "\n",
        "Write a Python program to convert temperatures to and from celsius, fahrenheit.\n",
        "\n",
        "[ Formula : c/5 = f-32/9 [ where c = temperature in celsius and f = temperature in fahrenheit ]"
      ]
    },
    {
      "cell_type": "code",
      "execution_count": null,
      "metadata": {
        "id": "DES51QQ8kAfp"
      },
      "outputs": [],
      "source": [
        "### YOUR CODE GOES BELOW\n",
        "\n",
        "\n",
        "### END CODE"
      ]
    },
    {
      "cell_type": "markdown",
      "metadata": {
        "id": "e8POpPmzkAfq"
      },
      "source": [
        "#### Exercise 7\n",
        "\n",
        "Write a Python program that prints all the numbers from 0 to 10 except 1 and 5. Use the **for** loop"
      ]
    },
    {
      "cell_type": "code",
      "execution_count": null,
      "metadata": {
        "id": "54eBFlaXkAfq"
      },
      "outputs": [],
      "source": [
        "### YOUR CODE GOES BELOW\n",
        "\n",
        "\n",
        "### END CODE"
      ]
    },
    {
      "cell_type": "markdown",
      "metadata": {
        "id": "lG3vbBOTkAfq"
      },
      "source": [
        "#### Exercise 8\n",
        "\n",
        "Write a Python program that reads two integers representing a month and day and prints the season for that month and day. Refer to this URL https://www.timeanddate.com/calendar/aboutseasons.html for when a season starts and ends in North America (Northern Meteorological Seasons)"
      ]
    },
    {
      "cell_type": "code",
      "execution_count": null,
      "metadata": {
        "id": "mh1RyWrfkAfq"
      },
      "outputs": [],
      "source": [
        "### YOUR CODE GOES BELOW\n",
        "\n",
        "\n",
        "### END CODE"
      ]
    },
    {
      "cell_type": "markdown",
      "metadata": {
        "id": "ALjxdheckAfq"
      },
      "source": [
        "#### Exercise 9\n",
        "\n",
        "Use a **while** loop to ask the user to enter a number. Print a running total of all the numbers that the user enters. If the user enters 0, break from the while loop."
      ]
    },
    {
      "cell_type": "code",
      "execution_count": null,
      "metadata": {
        "id": "b1O1LvTrkAfr"
      },
      "outputs": [],
      "source": [
        "### YOUR CODE GOES BELOW\n",
        "\n",
        "\n",
        "### END CODE"
      ]
    },
    {
      "cell_type": "markdown",
      "metadata": {
        "id": "URT0eQbgkAfr"
      },
      "source": [
        "#### Exercise 10\n",
        "\n",
        "Write a Python program to create the multiplication table (from 1 to 10) of a number. Use the formatted print statements that you learnt in Week 2 and the **for** loop to print this table.\n",
        "\n",
        "Input a number: 6                                                       \n",
        "6 x 1 = 6                                                               \n",
        "6 x 2 = 12                                                              \n",
        "6 x 3 = 18                                                              \n",
        "6 x 4 = 24                                                              \n",
        "6 x 5 = 30                                                              \n",
        "6 x 6 = 36                                                              \n",
        "6 x 7 = 42                                                              \n",
        "6 x 8 = 48                                                              \n",
        "6 x 9 = 54                                                              \n",
        "6 x 10 = 60"
      ]
    },
    {
      "cell_type": "code",
      "execution_count": null,
      "metadata": {
        "id": "bv30wODnkAfr"
      },
      "outputs": [],
      "source": [
        "### YOUR CODE GOES BELOW\n",
        "\n",
        "\n",
        "### END CODE"
      ]
    },
    {
      "cell_type": "code",
      "execution_count": null,
      "metadata": {
        "id": "UBbK9Lk3kAfr"
      },
      "outputs": [],
      "source": []
    }
  ],
  "metadata": {
    "kernelspec": {
      "display_name": "Python 3",
      "language": "python",
      "name": "python3"
    },
    "language_info": {
      "codemirror_mode": {
        "name": "ipython",
        "version": 3
      },
      "file_extension": ".py",
      "mimetype": "text/x-python",
      "name": "python",
      "nbconvert_exporter": "python",
      "pygments_lexer": "ipython3",
      "version": "3.8.5"
    },
    "colab": {
      "provenance": []
    }
  },
  "nbformat": 4,
  "nbformat_minor": 0
}