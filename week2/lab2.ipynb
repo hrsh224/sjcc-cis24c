{
  "cells": [
    {
      "cell_type": "markdown",
      "metadata": {
        "id": "qmUF4CqIiGjw"
      },
      "source": [
        "# CIS024C -  Spring 2024\n",
        "\n",
        "## Lab 2\n",
        "\n",
        "**Lab 2 the below topics\n",
        "\n",
        "1. Conditionals - if/elif/else\n",
        "2. Repetition - for, while\n",
        "3. Iterators\n",
        "\n",
        "Feel free to search the web for how you can solve these exercises.\n",
        "\n",
        "We will review them during class.\n",
        "\n",
        "**Students will be given points for attemping to solve the exercises. It is not required that you have the correct result **\n",
        "\n",
        "You will need to download this notebook and use this as a starting point for your homework. You will just need to fill in the content of each code-block (cell) and execute. Once you have completed all the exercises, you will need to save this notebook and upload it into Canvas.\n",
        "\n",
        "Note also the exercises build on top of one another so you might be able to do the next exercise if you have not completed the previous exercise.\n",
        "\n",
        "Post any questions you have on our Slack discussions channel"
      ]
    },
    {
      "cell_type": "markdown",
      "metadata": {
        "id": "K3JxTxaViGj1"
      },
      "source": [
        "#### Exercise 1 (20 points)\n",
        "\n",
        "Write a Python program to obtain the student score from the student. Perform the below check\n",
        "\n",
        "* If the student’s score is < 80, mark the student as fail\n",
        "* If the student’s score is greater than or equal to 80, then perform the below check in a nested IF-ELSE statement\n",
        "* If student score is >= 90, mark the grade as A\n",
        "* If student score is greater than or equal to 80 but less than 90, mark the grade as B"
      ]
    },
    {
      "cell_type": "code",
      "execution_count": null,
      "metadata": {
        "id": "6IlRwPUbiGj3"
      },
      "outputs": [],
      "source": [
        "### YOUR CODE GOES BELOW\n",
        "def get_student_grade(score):\n",
        "    if score < 80:\n",
        "        result = \"Fail\"\n",
        "    else:\n",
        "        if score >= 90:\n",
        "            result = \"A\"\n",
        "        else:\n",
        "            result = \"B\"\n",
        "    return result\n",
        "\n",
        "def main():\n",
        "    while True:\n",
        "        score = input(\"Enter the student's score: \")\n",
        "        # if the score is entered like 80.5 then replace . with nothing\n",
        "        if score.replace('.','',1).isdigit():\n",
        "            score = float(score)\n",
        "            if score < 0 or score > 100:\n",
        "                print(\"Invalid score. Score should be between 0 and 100.\")\n",
        "            else:\n",
        "                grade = get_student_grade(score)\n",
        "                print(\"Student's grade:\", grade)\n",
        "                break\n",
        "        else:\n",
        "            print(\"Invalid input. Please enter a valid number.\")\n",
        "\n",
        "if __name__ == \"__main__\":\n",
        "    main()\n",
        "\n",
        "### END CODE"
      ]
    },
    {
      "cell_type": "markdown",
      "metadata": {
        "id": "SncGUwehiGj4"
      },
      "source": [
        "#### Exercise 2 (20 points)\n",
        "\n",
        "Write a Python to get the salary of three employees in an organization.\n",
        "\n",
        "Check to see if any two employees have the same salary. Display an appropriate message.\n"
      ]
    },
    {
      "cell_type": "code",
      "execution_count": 2,
      "metadata": {
        "id": "BA6jeydQiGj4"
      },
      "outputs": [
        {
          "name": "stdout",
          "output_type": "stream",
          "text": [
            "No duplicate salaries found among the employees.\n"
          ]
        }
      ],
      "source": [
        "### YOUR CODE GOES BELOW\n",
        "def check_salary_duplicates(salaries):\n",
        "    duplicates = []\n",
        "    for salary in salaries:\n",
        "        if salaries.count(salary) > 1 and salary not in duplicates:\n",
        "            duplicates.append(salary)\n",
        "    return duplicates\n",
        "\n",
        "def main():\n",
        "    salaries = []\n",
        "    for i in range(3):\n",
        "        while True:\n",
        "            salary = input(f\"Enter the salary of employee {i+1}: \")\n",
        "            if salary.replace('.','',1).isdigit():\n",
        "                salaries.append(float(salary))\n",
        "                break\n",
        "            else:\n",
        "                print(\"Invalid input. Please enter a valid salary.\")\n",
        "                \n",
        "    duplicate_salaries = check_salary_duplicates(salaries)\n",
        "    \n",
        "    if duplicate_salaries:\n",
        "        print(\"Duplicate salaries found among the employees.\")\n",
        "        print(\"Employees with the same salary:\", duplicate_salaries)\n",
        "    else:\n",
        "        print(\"No duplicate salaries found among the employees.\")\n",
        "\n",
        "if __name__ == \"__main__\":\n",
        "    main()\n",
        "\n",
        "### END CODE"
      ]
    },
    {
      "cell_type": "markdown",
      "metadata": {
        "id": "7oK3WrOJiGj5"
      },
      "source": [
        "#### Exercise 3 (20 points)\n",
        "\n",
        "Write a Python program that uses a for loop to get the age information for six students.\n",
        "\n",
        "* Find the average age and print it on the screen.\n",
        "* Find the median age and print it to the screen\n",
        "\n",
        "**For example:**\n",
        "\n",
        "```\n",
        "\n",
        "Enter age: 20\n",
        "Enter age: 20\n",
        "Enter age: 20\n",
        "Enter age: 20\n",
        "Enter age: 20\n",
        "Enter age: 20\n",
        "\n",
        "The average is 20\n",
        "The median is 20\n",
        "```\n",
        "\n"
      ]
    },
    {
      "cell_type": "code",
      "execution_count": 3,
      "metadata": {
        "id": "Fy6yh2KNiGj5"
      },
      "outputs": [
        {
          "name": "stdout",
          "output_type": "stream",
          "text": [
            "The average age is 35.00\n",
            "The median age is 35.0\n"
          ]
        }
      ],
      "source": [
        "### YOUR CODE GOES BELOW\n",
        "def main():\n",
        "    # Create an empty list to store the ages\n",
        "    ages = []\n",
        "\n",
        "    # Loop 6 times to get the age of 6 students\n",
        "    for i in range(6):\n",
        "        # Loop until a valid age is entered\n",
        "        while True:\n",
        "            # Ask for the age of the student\n",
        "            age = input(f\"Enter age of student {i+1}: \")\n",
        "\n",
        "            # Check if the input is a digit (a whole number)\n",
        "            if age.isdigit():\n",
        "                # Convert the input to an integer and add it to the list\n",
        "                ages.append(int(age))\n",
        "                # Break out of the inner loop\n",
        "                break\n",
        "            else:\n",
        "                # If the input is not a digit, print an error message\n",
        "                print(\"Invalid input. Please enter a valid age.\")\n",
        "\n",
        "    # Calculate the mean (average) age\n",
        "    average_age = sum(ages) / len(ages)\n",
        "\n",
        "    # Calculate the median age\n",
        "    sorted_ages = sorted(ages)\n",
        "    n = len(sorted_ages)\n",
        "    if n % 2 == 0:\n",
        "        # If the number of ages is even, calculate the median as the average of the two middle values\n",
        "        median_age = (sorted_ages[n//2 - 1] + sorted_ages[n//2]) / 2\n",
        "    else:\n",
        "        # If the number of ages is odd, the median is the middle value\n",
        "        median_age = sorted_ages[n//2]\n",
        "\n",
        "    # Print the results\n",
        "    print(f\"The average age is {average_age:.2f}\")\n",
        "    print(f\"The median age is {median_age}\")\n",
        "\n",
        "if __name__ == \"__main__\":\n",
        "    main()\n",
        "\n",
        "### END CODE"
      ]
    },
    {
      "cell_type": "markdown",
      "metadata": {
        "id": "GX_R7V1xiGj5"
      },
      "source": [
        "#### Exercise 4 (20 points)\n",
        "\n",
        "Write a Python program to get the user name and City of residence from many users.\n",
        "\n",
        "Use a While loop to accept the information. Display the information that you have accepted.\n",
        "\n",
        "Exit the while loop if the name “None” is encountered.\n",
        "\n",
        "**For example:**\n",
        "\n",
        "```\n",
        "\n",
        "Enter username: Dominic Rafael\n",
        "Enter city of residence: Venice\n",
        "\n",
        "Enter username: Salvator Jugador\n",
        "Enter city of residence: Naples\n",
        "\n",
        "Enter username: None\n",
        "\n",
        "```\n",
        "\n",
        "Exit Program"
      ]
    },
    {
      "cell_type": "code",
      "execution_count": 4,
      "metadata": {
        "id": "vhCydHiNiGj5"
      },
      "outputs": [
        {
          "name": "stdout",
          "output_type": "stream",
          "text": [
            "Name: kumara, City: fremont\n",
            "Name: , City: None\n"
          ]
        }
      ],
      "source": [
        "### YOUR CODE GOES BELOW\n",
        "# Create empty lists to store the names and cities\n",
        "names = []\n",
        "cities = []\n",
        "\n",
        "# Loop until \"None\" is entered as a name\n",
        "while True:\n",
        "    # Ask for the name\n",
        "    name = input(\"Enter your name (or 'None' to exit): \")\n",
        "\n",
        "    # Check if the name is \"None\"\n",
        "    if name.lower() == \"none\":\n",
        "        # Break out of the loop\n",
        "        break\n",
        "\n",
        "    # Ask for the city\n",
        "    city = input(\"Enter your city: \")\n",
        "\n",
        "    # Add the name and city to the lists\n",
        "    names.append(name)\n",
        "    cities.append(city)\n",
        "\n",
        "# Print the accepted information\n",
        "for i in range(len(names)):\n",
        "    print(f\"Name: {names[i]}, City: {cities[i]}\")\n",
        "    \n",
        "### END CODE"
      ]
    },
    {
      "cell_type": "markdown",
      "metadata": {
        "id": "h6CiiQS6iGj6"
      },
      "source": [
        "#### Exercise 5 (20 points)\n",
        "\n",
        "Write a python program that accepts a line of text from the user.\n",
        "\n",
        "Use a for loop to go through all characters and display the vowels and consonants.\n",
        "\n",
        "If a vowel or consonant is repeating, make sure to print it out only once\n",
        "\n",
        "**for example**\n",
        "\n",
        "```\n",
        "\n",
        "Enter a line of text: Jack and Jill\n",
        "\n",
        "Vowels are: ai\n",
        "Consonants are: jckndl\n",
        "```\n"
      ]
    },
    {
      "cell_type": "code",
      "execution_count": null,
      "metadata": {
        "id": "JKTqUYRyiGj6"
      },
      "outputs": [],
      "source": [
        "### YOUR CODE GOES BELOW\n",
        "def main():\n",
        "    text = input(\"Enter a line of text: \")\n",
        "    vowels = set()\n",
        "    consonants = set()\n",
        "    i = 0\n",
        "\n",
        "    while i < len(text):\n",
        "        char = text[i]\n",
        "        if char.lower() in 'aeiou' and char.lower() not in vowels:\n",
        "            vowels.add(char.lower())\n",
        "        elif char.isalpha() and char.lower() not in consonants:\n",
        "            consonants.add(char.lower())\n",
        "        i += 1\n",
        "\n",
        "    vowel_list = sorted(list(vowels))\n",
        "    consonant_list = sorted(list(consonants))\n",
        "\n",
        "    print(\"\\nVowels are:\", ''.join(vowel_list))\n",
        "    print(\"Consonants are:\", ''.join(consonant_list))\n",
        "\n",
        "if __name__ == \"__main__\":\n",
        "    main()\n",
        "\n",
        "\n",
        "### END CODE"
      ]
    },
    {
      "cell_type": "markdown",
      "metadata": {
        "id": "bclUmkldiGj6"
      },
      "source": [
        "## When completed, Save, download the notebook and upload into Canvas"
      ]
    },
    {
      "cell_type": "code",
      "execution_count": null,
      "metadata": {
        "id": "2d_zWHbuiGj6"
      },
      "outputs": [],
      "source": []
    }
  ],
  "metadata": {
    "colab": {
      "provenance": []
    },
    "kernelspec": {
      "display_name": "Python 3",
      "language": "python",
      "name": "python3"
    },
    "language_info": {
      "codemirror_mode": {
        "name": "ipython",
        "version": 3
      },
      "file_extension": ".py",
      "mimetype": "text/x-python",
      "name": "python",
      "nbconvert_exporter": "python",
      "pygments_lexer": "ipython3",
      "version": "3.9.7"
    }
  },
  "nbformat": 4,
  "nbformat_minor": 0
}
