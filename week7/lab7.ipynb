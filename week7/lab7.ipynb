{
  "cells": [
    {
      "cell_type": "markdown",
      "metadata": {
        "id": "n4a2OwzFXGZi"
      },
      "source": [
        "# CIS024C -  Fall 2024\n",
        "\n",
        "## Lab 7\n",
        "\n",
        "**Lab 7 consists the below topics**\n",
        "\n",
        "Exception Handling\n",
        "\n",
        "- System Exceptions\n",
        "\n",
        "- User defined exceptions\n",
        "\n",
        "Feel free to search the web for how you can solve these exercises.\n",
        "\n",
        "We will review them during class.\n",
        "\n",
        "**Students will be given partial credit for attemping to solve the exercises.**\n",
        "\n",
        "\n",
        "Note also the exercises build on top of one another so you might be able to do the next exercise if you have not completed the previous exercise.\n",
        "\n",
        "Post any questions you have on our Slack discussions channel"
      ]
    },
    {
      "cell_type": "markdown",
      "metadata": {
        "id": "bInWL__AXGZl"
      },
      "source": [
        "#### Exercise 1 (25 points)\n",
        "\n",
        "Write Python programs to catch the below exceptions in your program and verify that it works\n",
        "\n",
        "* NameError\n",
        "* ValueError\n",
        "* TypeError\n",
        "* ZeroDivisionError\n",
        "* IOError\n",
        "* IndexError\n",
        "* KeyError\n"
      ]
    },
    {
      "cell_type": "code",
      "execution_count": null,
      "metadata": {
        "id": "wr6DDK4NXGZm"
      },
      "outputs": [],
      "source": [
        "### YOUR CODE GOES BELOW\n",
        "#Name Error\n",
        "try:\n",
        "    print(undefined_variable)\n",
        "except NameError:\n",
        "    print(\"Caught a NameError!\")\n",
        "\n",
        "#Value Error\n",
        "try:\n",
        "    int(\"hello\")\n",
        "except ValueError:\n",
        "    print(\"Caught a ValueError!\")\n",
        "\n",
        "#Type Error\n",
        "try:\n",
        "    \"hello\" + 5\n",
        "except TypeError:\n",
        "    print(\"Caught a TypeError!\")\n",
        "\n",
        "#Zero divison error\n",
        "try:\n",
        "    5 / 0\n",
        "except ZeroDivisionError:\n",
        "    print(\"Caught a ZeroDivisionError!\")\n",
        "\n",
        "#IO Error\n",
        "try:\n",
        "    with open(\"nonexistent_file.txt\") as file:\n",
        "        print(file.read())\n",
        "except IOError:\n",
        "    print(\"Caught an IOError!\")\n",
        "\n",
        "#Index Error\n",
        "try:\n",
        "    my_list = [1, 2, 3]\n",
        "    print(my_list[5])\n",
        "except IndexError:\n",
        "    print(\"Caught an IndexError!\")\n",
        "\n",
        "#Key Error\n",
        "try:\n",
        "    my_dict = {\"a\": 1, \"b\": 2}\n",
        "    print(my_dict[\"c\"])\n",
        "except KeyError:\n",
        "    print(\"Caught a KeyError!\")\n",
        "    \n",
        "\n",
        "\n",
        "### END CODE"
      ]
    },
    {
      "cell_type": "markdown",
      "metadata": {
        "id": "WO0GxdA5XGZo"
      },
      "source": [
        "#### Exercise 2 (25 points)\n",
        "\n",
        " Create two functions - add and multiply, one to add two numbers and another to multiply two numbers. They should both return the result. The functions must use a helper function called get_input. This function must use exception handling to perform input validation to ensure that the user only enters integer values.\n"
      ]
    },
    {
      "cell_type": "code",
      "execution_count": null,
      "metadata": {
        "id": "ZaS0YHEgXGZo"
      },
      "outputs": [],
      "source": [
        "### YOUR CODE GOES BELOW\n",
        "def get_input(prompt):\n",
        "    while True:\n",
        "        try:\n",
        "            return int(input(prompt))\n",
        "        except ValueError:\n",
        "            print(\"Invalid input! Please enter an integer.\")\n",
        "\n",
        "def add(num1, num2):\n",
        "    return num1 + num2\n",
        "\n",
        "def multiply(num1, num2):\n",
        "    return num1 * num2\n",
        "\n",
        "# Example usage:\n",
        "num1 = get_input(\"Enter the first number: \")\n",
        "num2 = get_input(\"Enter the second number: \")\n",
        "\n",
        "result_add = add(num1, num2)\n",
        "result_multiply = multiply(num1, num2)\n",
        "\n",
        "print(f\"The sum is: {result_add}\")\n",
        "print(f\"The product is: {result_multiply}\")\n",
        "\n",
        "### END CODE"
      ]
    },
    {
      "cell_type": "markdown",
      "metadata": {
        "id": "J5zGSBeCXGZo"
      },
      "source": [
        "#### Exercise 3 (25 points)\n",
        "\n",
        "Write a Python program that initializes a dictionary with the below information\n",
        "{\"house\":\"Haus\",\"cat\":\"Katze\",\"red\":\"rot\"}\n",
        "Allow the user to enter an Index. Use KeyError Exception to look for key errors\n"
      ]
    },
    {
      "cell_type": "code",
      "execution_count": null,
      "metadata": {
        "id": "2pnAC_FOXGZo"
      },
      "outputs": [],
      "source": [
        "### YOUR CODE GOES BELOW\n",
        "# Initialize the dictionary\n",
        "german_dict = {\"house\":\"Haus\", \"cat\":\"Katze\", \"red\":\"rot\"}\n",
        "\n",
        "# Prompt the user to enter a key\n",
        "key = input(\"Enter a key: \")\n",
        "\n",
        "try:\n",
        "    # Attempt to retrieve the value for the entered key\n",
        "    value = german_dict[key]\n",
        "    print(f\"The German translation for '{key}' is '{value}'\")\n",
        "except KeyError:\n",
        "    # If the key is not found, print an error message\n",
        "    print(f\"Error: The key '{key}' is not found in the dictionary\")\n",
        "\n",
        "### END CODE"
      ]
    },
    {
      "cell_type": "markdown",
      "metadata": {
        "id": "YX7IQNcAXGZp"
      },
      "source": [
        "#### Exercise 4 (25 points)\n",
        "\n",
        "Write a function to compute the average of a set of n numbers. Allow the user to enter the numbers. Add them to a list. Attempt to compute and display the average of those numbers.\n",
        "Use the divide by zero exception to detect any time the user enters an empty list, and display the error.  \n"
      ]
    },
    {
      "cell_type": "code",
      "execution_count": null,
      "metadata": {
        "id": "PbxSsxg5XGZp"
      },
      "outputs": [],
      "source": [
        "### YOUR CODE GOES BELOW\n",
        "def compute_average():\n",
        "    numbers = []\n",
        "    while True:\n",
        "        user_input = input(\"Enter a number (or 'stop' to finish): \")\n",
        "        if user_input.lower() == 'stop':\n",
        "            break\n",
        "        try:\n",
        "            numbers.append(float(user_input))\n",
        "        except ValueError:\n",
        "            print(\"Invalid input! Please enter a number.\")\n",
        "\n",
        "    try:\n",
        "        average = sum(numbers) / len(numbers)\n",
        "        print(f\"The average is: {average:.2f}\")\n",
        "    except ZeroDivisionError:\n",
        "        print(\"Error: You didn't enter any numbers!\")\n",
        "\n",
        "compute_average()\n",
        "### END CODE"
      ]
    },
    {
      "cell_type": "markdown",
      "metadata": {
        "id": "96oCIxDEXGZp"
      },
      "source": [
        "## When completed, Save the URL of the notebook and upload into Canvas"
      ]
    },
    {
      "cell_type": "code",
      "execution_count": null,
      "metadata": {
        "id": "wiuHk-VmXGZp"
      },
      "outputs": [],
      "source": []
    }
  ],
  "metadata": {
    "colab": {
      "provenance": []
    },
    "kernelspec": {
      "display_name": "Python 3",
      "language": "python",
      "name": "python3"
    },
    "language_info": {
      "codemirror_mode": {
        "name": "ipython",
        "version": 3
      },
      "file_extension": ".py",
      "mimetype": "text/x-python",
      "name": "python",
      "nbconvert_exporter": "python",
      "pygments_lexer": "ipython3",
      "version": "3.9.7"
    }
  },
  "nbformat": 4,
  "nbformat_minor": 0
}
