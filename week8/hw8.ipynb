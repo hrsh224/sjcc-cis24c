{
  "cells": [
    {
      "cell_type": "markdown",
      "metadata": {
        "id": "XjrOGtNQe0hw"
      },
      "source": [
        "\n",
        "# CIS024C -  Fall 2024\n",
        "\n",
        "## Homework 8\n",
        "\n",
        "Homework 8 covers exercises involving  external libraries, creating user defined libraries and working with command line arguments.\n",
        "\n",
        "The below sites have some interesting and useful information on these topics\n",
        "\n",
        "https://docs.python.org/3/library/\n",
        "https://docs.python.org/3/library/argparse.html\n"
      ]
    },
    {
      "cell_type": "markdown",
      "metadata": {
        "id": "Ecq0wzMWe0hz"
      },
      "source": [
        "#### Check Python Version"
      ]
    },
    {
      "cell_type": "code",
      "execution_count": null,
      "metadata": {
        "id": "3jKoYRiVe0h0",
        "outputId": "73f7f79c-e204-4408-f4eb-92171079d217"
      },
      "outputs": [
        {
          "name": "stdout",
          "output_type": "stream",
          "text": [
            "Python 3.8.5\r\n"
          ]
        }
      ],
      "source": [
        "!python --version"
      ]
    },
    {
      "cell_type": "markdown",
      "metadata": {
        "id": "VdnKkh2re0h2"
      },
      "source": [
        "#### Exercise 1 - Testing your knowledge of External Libraries **\n",
        "\n",
        "Answer the below questions\n",
        "\n",
        "1. Name two benefits of using external libraries.\n",
        "2. What are the different ways of including an external library in a Python program?"
      ]
    },
    {
      "cell_type": "markdown",
      "metadata": {
        "id": "7u37DEt6e0h2"
      },
      "source": [
        "<< Double click this cell and enter your result >>"
      ]
    },
    {
      "cell_type": "markdown",
      "metadata": {
        "id": "q2GUjfuNe0h2"
      },
      "source": [
        "#### Exercise 2 -  Using the math library\n",
        "\n",
        "Import the math library in your program and do the following\n",
        "\n",
        "1. Request the user to enter a number between 1 and 10\n",
        "2. Compute the log (math.log) of the number\n",
        "3. Compute the factorial (math.factorial) of the number\n",
        "4. Compute the square root (math.sqrt) of the number\n",
        "5. Compute the sine (math.sin) of the number\n",
        "\n",
        "Refer to https://docs.python.org/2/library/math.html for more information on the math library\n"
      ]
    },
    {
      "cell_type": "code",
      "execution_count": null,
      "metadata": {
        "id": "PkC4Mka5e0h3"
      },
      "outputs": [],
      "source": [
        "### YOUR CODE GOES\n",
        "import math\n",
        "\n",
        "# Request user input for a number between 1 and 10\n",
        "while True:\n",
        "    try:\n",
        "        num = float(input(\"Please enter a number between 1 and 10: \"))\n",
        "        if 1 <= num <= 10:\n",
        "            break\n",
        "        else:\n",
        "            print(\"Please enter a number between 1 and 10.\")\n",
        "    except ValueError:\n",
        "        print(\"Invalid input. Please enter a number.\")\n",
        "\n",
        "# Compute the log, factorial, square root, and sine of the number\n",
        "log_num = math.log(num)\n",
        "factorial_num = math.factorial(int(num))\n",
        "sqrt_num = math.sqrt(num)\n",
        "sin_num = math.sin(num)\n",
        "\n",
        "# Display the results\n",
        "print(f\"Logarithm of {num}: {log_num}\")\n",
        "print(f\"Factorial of {num}: {factorial_num}\")\n",
        "print(f\"Square root of {num}: {sqrt_num}\")\n",
        "print(f\"Sine of {num}: {sin_num}\")\n",
        "\n",
        "### END CODE"
      ]
    },
    {
      "cell_type": "markdown",
      "metadata": {
        "id": "f1JuLJFse0h3"
      },
      "source": [
        "#### Exercise 3 - Random numbers\n",
        "\n",
        "Generate a list of 10 random numbers between 1 and 100. Use random.sample function. Write a program to then sort the list of numbers in ascending order."
      ]
    },
    {
      "cell_type": "code",
      "execution_count": null,
      "metadata": {
        "id": "az702ueae0h3"
      },
      "outputs": [],
      "source": [
        "### YOUR CODE GOES BELOW\n",
        "import random\n",
        "\n",
        "# Generate a list of 10 random numbers between 1 and 100\n",
        "random_numbers = random.sample(range(1, 101), 10)\n",
        "\n",
        "# Sort the list in ascending order\n",
        "random_numbers.sort()\n",
        "\n",
        "# Display the sorted list\n",
        "print(\"Sorted List of Random Numbers:\")\n",
        "for number in random_numbers:\n",
        "    print(number)\n",
        "\n",
        "### END CODE"
      ]
    },
    {
      "cell_type": "markdown",
      "metadata": {
        "id": "9et_R5C1e0h3"
      },
      "source": [
        "#### Exercise 4 - Creating your own library\n",
        "\n",
        "Create a python module **helperfunctions.py** with the following functions.\n",
        "\n",
        "1. add - returns the sum of two numbers\n",
        "2. diff - returns the difference between two numbers\n",
        "3. product - returns the product of two numbers\n",
        "4. greatest - returns the greatest of two numbers.\n",
        "\n",
        "Import this module in your python program and use the functions your created on any two numbers and print the result.\n",
        "\n",
        "Note that the %%writefile <filename> line is used to create a file. Any content written in the cell after the %%writefile <filename> line will be written to a file named <filename>. <filename> is a placeholder for the filename that you want to use.\n",
        "    \n",
        " **It is really important that %%writefile <filename> be the very first line in the cell. Otherwise, this will not work**"
      ]
    },
    {
      "cell_type": "code",
      "execution_count": 1,
      "metadata": {
        "colab": {
          "base_uri": "https://localhost:8080/"
        },
        "id": "gThs8Hywe0h4",
        "outputId": "67a69866-01bb-4cb7-87ee-fcefef3a832e"
      },
      "outputs": [
        {
          "name": "stdout",
          "output_type": "stream",
          "text": [
            "Writing helperfunctions.py\n"
          ]
        }
      ],
      "source": [
        "%%writefile helperfunctions.py\n",
        "\n",
        "def add(num1, num2):\n",
        "    return num1 + num2\n",
        "\n",
        "def diff(num1, num2):\n",
        "    return num1 - num2\n",
        "\n",
        "def product(num1, num2):\n",
        "    return num1 * num2\n",
        "\n",
        "def greatest(num1, num2):\n",
        "    return max(num1, num2)"
      ]
    },
    {
      "cell_type": "code",
      "execution_count": 2,
      "metadata": {
        "id": "82Duqjqne0h4"
      },
      "outputs": [
        {
          "name": "stdout",
          "output_type": "stream",
          "text": [
            "Sum: 15\n",
            "Difference: 5\n",
            "Product: 50\n",
            "Greatest: 10\n"
          ]
        }
      ],
      "source": [
        "### YOUR CODE GOES BELOW\n",
        "\n",
        "import helperfunctions as hf\n",
        "num1 = 10\n",
        "num2 = 5\n",
        "\n",
        "print(\"Sum:\", hf.add(num1, num2))\n",
        "print(\"Difference:\", hf.diff(num1, num2))\n",
        "print(\"Product:\", hf.product(num1, num2))\n",
        "print(\"Greatest:\", hf.greatest(num1, num2))\n",
        "\n",
        "\n",
        "### END CODE"
      ]
    },
    {
      "cell_type": "markdown",
      "metadata": {
        "id": "rBGvuQXQe0h5"
      },
      "source": [
        "#### Exercise 5 - Command Line programs with multiple modules\n",
        "\n",
        "Write a Python program to add two numbers.\n",
        "\n",
        "Your Python program must have a function called **add** that is placed in a separate module called **helper.py**.\n",
        "\n",
        "Your main program, which is also a standalone Python program **main.py** must import **helper.py** and use this module to add the two numbers.\n",
        "\n",
        "The numbers to be added are already specified as variables in your main.py program below\n",
        "\n",
        "Here is an example of how your program would be invoked assuming the numbers to be added are 3 and 2\n",
        "\n",
        "You will execute the main.py program by running the third cell below\n"
      ]
    },
    {
      "cell_type": "code",
      "execution_count": 5,
      "metadata": {},
      "outputs": [
        {
          "name": "stdout",
          "output_type": "stream",
          "text": [
            "Overwriting helper.py\n"
          ]
        }
      ],
      "source": [
        "%%writefile helper.py\n",
        "\n",
        "### YOUR CODE for helper.py goes here\n",
        "def add(num1, num2):\n",
        "  return num1 + num2\n",
        "\n",
        "\n",
        "### END CODE"
      ]
    },
    {
      "cell_type": "code",
      "execution_count": 7,
      "metadata": {
        "id": "KxjLQTTEe0h5",
        "outputId": "22228b5f-4320-45b4-a317-d6ff2d1a3456"
      },
      "outputs": [
        {
          "name": "stdout",
          "output_type": "stream",
          "text": [
            "Writing main.py\n"
          ]
        }
      ],
      "source": [
        "%%writefile main.py\n",
        "### YOUR CODE for main.py goes here\n",
        "from helper import add\n",
        "\n",
        "number1 = 10\n",
        "number2 = 20\n",
        "\n",
        "result = add(number1, number2)\n",
        "print(f\"Sum of two numbers is: {result}\")\n",
        "\n",
        "### END CODE"
      ]
    },
    {
      "cell_type": "code",
      "execution_count": 9,
      "metadata": {
        "id": "On-ZCShRe0h5"
      },
      "outputs": [
        {
          "name": "stdout",
          "output_type": "stream",
          "text": [
            "Sum of two numbers is: 30\n"
          ]
        }
      ],
      "source": [
        "# you can execute the main function by running this cell\n",
        "!python3 main.py"
      ]
    }
  ],
  "metadata": {
    "colab": {
      "provenance": []
    },
    "kernelspec": {
      "display_name": "Python 3",
      "language": "python",
      "name": "python3"
    },
    "language_info": {
      "codemirror_mode": {
        "name": "ipython",
        "version": 3
      },
      "file_extension": ".py",
      "mimetype": "text/x-python",
      "name": "python",
      "nbconvert_exporter": "python",
      "pygments_lexer": "ipython3",
      "version": "3.9.7"
    }
  },
  "nbformat": 4,
  "nbformat_minor": 0
}
