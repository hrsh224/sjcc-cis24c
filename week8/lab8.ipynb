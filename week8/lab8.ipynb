{
  "cells": [
    {
      "cell_type": "markdown",
      "metadata": {
        "id": "7UdsS-NYhIUM"
      },
      "source": [
        "# CIS024C -  Fall 2024\n",
        "\n",
        "## Lab 8\n",
        "\n",
        "*Lab 8 tests the below content*\n",
        "\n",
        "Working with external libraries\n",
        "\n",
        "Python Modules\n",
        "\n",
        "Feel free to search the web for how you can solve these exercises.\n"
      ]
    },
    {
      "cell_type": "markdown",
      "metadata": {
        "id": "KMq8-9ndhIUS"
      },
      "source": [
        "### Using External Libraries"
      ]
    },
    {
      "cell_type": "markdown",
      "metadata": {
        "id": "d8oVPUbhhIUS"
      },
      "source": [
        "#### Exercise 1  (20 points)\n",
        "\n",
        "Write Python program to show the current working directory and list the files present in the current working directory with extension ipynb.\n",
        "\n",
        "Refer to the instructions here for supported libraries that can help you do this - https://flexiple.com/python-get-current-directory/"
      ]
    },
    {
      "cell_type": "code",
      "execution_count": null,
      "metadata": {
        "id": "IHkaMiYyhIUT"
      },
      "outputs": [],
      "source": [
        "# SAMPLE OUTPUT\n",
        "# the resulting output should list the contents of your directory, similar to\n",
        "# how the contents of my directory are listed here\n",
        "!ls -l *.ipynb"
      ]
    },
    {
      "cell_type": "code",
      "execution_count": 2,
      "metadata": {
        "id": "jTuSTcY-hIUU"
      },
      "outputs": [
        {
          "name": "stdout",
          "output_type": "stream",
          "text": [
            "Current Working Directory: /Users/harish/CIS024C/sjcc-cis24c/week8\n",
            "IPython Notebook Files in the Current Directory:\n"
          ]
        }
      ],
      "source": [
        "### YOUR CODE GOES BELOW\n",
        "import os\n",
        "# \n",
        "import glob\n",
        "\n",
        "# Get the current working directory\n",
        "current_directory = os.getcwd()\n",
        "print(\"Current Working Directory:\", current_directory)\n",
        "\n",
        "# List all .ipynb files in the current working directory\n",
        "ipynb_files = glob.glob('*.ipynb')\n",
        "print(\"IPython Notebook Files in the Current Directory:\")\n",
        "for file in ipynb_files:\n",
        "    print(file)\n",
        "\n",
        "\n",
        "### END CODE"
      ]
    },
    {
      "cell_type": "markdown",
      "metadata": {
        "id": "WEzlOTHWhIUV"
      },
      "source": [
        "#### Exercise 2 (20 points)\n",
        "\n",
        "Write a Python program that uses the math library and does the following\n",
        "\n",
        "**Algorithm:**\n",
        "\n",
        "* Loop till user has no further input\n",
        "    * Get a number from the user\n",
        "    * Print the sine of the number (convert from degrees to radians)\n",
        "    * Print the cosine of the number (convert from degrees to radians)\n",
        "    * Print log to the base 10 of the number\n",
        "    * Print log to the base e of the number\n",
        "    \n",
        "Reference: https://docs.python.org/3/library/math.html\n"
      ]
    },
    {
      "cell_type": "code",
      "execution_count": null,
      "metadata": {
        "id": "FDcCXrZmhIUV"
      },
      "outputs": [],
      "source": [
        "### YOUR CODE GOES BELOW\n",
        "import math\n",
        "\n",
        "def main():\n",
        "    while True:\n",
        "        # Get a number from the user\n",
        "        user_input = input(\"Enter a number (or type 'exit' to stop): \")\n",
        "        \n",
        "        if user_input.lower() == 'exit':\n",
        "            print(\"Exiting the program.\")\n",
        "            break\n",
        "\n",
        "        try:\n",
        "            number = float(user_input)\n",
        "        except ValueError:\n",
        "            print(\"Invalid input. Please enter a valid number.\")\n",
        "            continue\n",
        "\n",
        "        # Convert the number from degrees to radians\n",
        "        radians = math.radians(number)\n",
        "\n",
        "        # Calculate sine and cosine of the number\n",
        "        sine = math.sin(radians)\n",
        "        cosine = math.cos(radians)\n",
        "\n",
        "        # Calculate log base 10 and log base e of the number\n",
        "        if number > 0:\n",
        "            log_base_10 = math.log10(number)\n",
        "            log_base_e = math.log(number)\n",
        "        else:\n",
        "            log_base_10 = \"undefined (logarithm for non-positive numbers is not defined)\"\n",
        "            log_base_e = \"undefined (logarithm for non-positive numbers is not defined)\"\n",
        "\n",
        "        # Print the results\n",
        "        print(f\"Sine of {number} degrees: {sine}\")\n",
        "        print(f\"Cosine of {number} degrees: {cosine}\")\n",
        "        print(f\"Log base 10 of {number}: {log_base_10}\")\n",
        "        print(f\"Log base e of {number}: {log_base_e}\")\n",
        "        print()\n",
        "\n",
        "\n",
        "if __name__ == \"__main__\":\n",
        "    main()\n",
        "\n",
        "\n",
        "### END CODE"
      ]
    },
    {
      "cell_type": "markdown",
      "metadata": {
        "id": "9EGF8Dj0hIUW"
      },
      "source": [
        "#### Exercise 3 (20 points)\n",
        "\n",
        "Write a Python program that simulates a pair of dice for the user\n",
        "\n",
        "**Algorithm**\n",
        "\n",
        "* Loop till user wants to stop the dice roll\n",
        "    * Simulate two dice roll.\n",
        "    * Display the two numbers\n",
        "    \n",
        "Reference: https://docs.python.org/3/library/random.html\n"
      ]
    },
    {
      "cell_type": "code",
      "execution_count": null,
      "metadata": {
        "id": "At5sta9ehIUW"
      },
      "outputs": [],
      "source": [
        "### YOUR CODE GOES BELOW\n",
        "import random\n",
        "\n",
        "# \n",
        "def roll_dice():\n",
        "    return random.randint(1, 6), random.randint(1, 6)\n",
        "\n",
        "# main() method\n",
        "def main():\n",
        "    while True:\n",
        "        user_input = input(\"Roll the dice? (yes to roll, no to stop): \")\n",
        "        \n",
        "        if user_input.lower() == 'no':\n",
        "            print(\"Stopping the dice roll.\")\n",
        "            break\n",
        "        elif user_input.lower() == 'yes':\n",
        "            dice1, dice2 = roll_dice()\n",
        "            print(f\"Dice 1: {dice1}, Dice 2: {dice2}\")\n",
        "            print()\n",
        "        else:\n",
        "            print(\"Invalid input. Please type 'yes' to roll or 'no' to stop.\")\n",
        "            continue\n",
        "\n",
        "# call the main method.\n",
        "if __name__ == \"__main__\":\n",
        "    main()\n",
        "\n",
        "\n",
        "\n",
        "### END CODE"
      ]
    },
    {
      "cell_type": "markdown",
      "metadata": {
        "id": "11ehKU7LhIUW"
      },
      "source": [
        "#### Exercise 4 (20 points)\n",
        "\n",
        "Write a Python program to convert the temperature for the below\n",
        "\n",
        "* Fahrenheit to Centigrade and vice versa\n",
        "* Fahrenheit to Kelvin and vice versa\n",
        "* Kelvin to Centigrade and vice versa\n",
        "\n",
        "You should write functions to do each of these operations. The functions should be present in an external .py file named helper.py\n",
        "\n",
        "Your main program will do the following\n",
        "\n",
        "**Algorithm**\n",
        "\n",
        "* Import your module\n",
        "* Loop till use is done\n",
        "    * Ask user to select an option from the 6 available options\n",
        "    * Get the input temperature value\n",
        "    * Display the converted temperature value\n",
        "\n"
      ]
    },
    {
      "cell_type": "code",
      "execution_count": null,
      "metadata": {
        "id": "ATvMwXivhIUX"
      },
      "outputs": [],
      "source": [
        "### YOUR CODE GOES BELOW\n",
        "import random\n",
        "\n",
        "def roll_dice():\n",
        "    return random.randint(1, 6), random.randint(1, 6)\n",
        "\n",
        "def main():\n",
        "    while True:\n",
        "        user_input = input(\"Roll the dice? (yes to roll, no to stop): \")\n",
        "        \n",
        "        if user_input.lower() == 'no':\n",
        "            print(\"Stopping the dice roll.\")\n",
        "            break\n",
        "        elif user_input.lower() == 'yes':\n",
        "            dice1, dice2 = roll_dice()\n",
        "            print(f\"Dice 1: {dice1}, Dice 2: {dice2}\")\n",
        "            print()\n",
        "        else:\n",
        "            print(\"Invalid input. Please type 'yes' to roll or 'no' to stop.\")\n",
        "            continue\n",
        "\n",
        "if __name__ == \"__main__\":\n",
        "    main()\n",
        "\n",
        "\n",
        "\n",
        "### END CODE"
      ]
    },
    {
      "cell_type": "markdown",
      "metadata": {
        "id": "1jxDrc0HhIUX"
      },
      "source": [
        "#### Exercise 5 (20 points)\n",
        "\n",
        "Write a Python program to find the areas of the shapes of the following figures\n",
        "\n",
        "* Circle\n",
        "* Square\n",
        "* Rectangle\n",
        "\n",
        "You should write functions to do each of these operations. The functions should be present in an external .py file named helper.py\n",
        "\n",
        "Your main program will do the following\n",
        "\n",
        "**Algorithm**\n",
        "\n",
        "* Import your module\n",
        "* Loop till use is done\n",
        "    * Ask user to select an option from the 3 available options\n",
        "    * Get the input value from the user depending on the shape\n",
        "    * Display the area of the shape using the functions in your helper module"
      ]
    },
    {
      "cell_type": "code",
      "execution_count": 18,
      "metadata": {},
      "outputs": [
        {
          "name": "stdout",
          "output_type": "stream",
          "text": [
            "Writing lab8helper.py\n"
          ]
        }
      ],
      "source": [
        "%%writefile lab8helper.py\n",
        "\n",
        "import math\n",
        "\n",
        "def area_circle(radius):\n",
        "    \"\"\"Calculate the area of a circle given its radius.\"\"\"\n",
        "    return math.pi * radius ** 2\n",
        "\n",
        "def area_square(side):\n",
        "    \"\"\"Calculate the area of a square given its side length.\"\"\"\n",
        "    return side ** 2\n",
        "\n",
        "def area_rectangle(length, width):\n",
        "    \"\"\"Calculate the area of a rectangle given its length and width.\"\"\"\n",
        "    return length * width"
      ]
    },
    {
      "cell_type": "code",
      "execution_count": 19,
      "metadata": {
        "id": "vX1BxKyphIUY"
      },
      "outputs": [
        {
          "name": "stdout",
          "output_type": "stream",
          "text": [
            "\n",
            "Select an option to calculate area:\n",
            "1. Circle\n",
            "2. Square\n",
            "3. Rectangle\n",
            "4. Exit\n",
            "The area of the circle is: 12.566370614359172\n",
            "\n",
            "Select an option to calculate area:\n",
            "1. Circle\n",
            "2. Square\n",
            "3. Rectangle\n",
            "4. Exit\n",
            "The area of the square is: 4.0\n",
            "\n",
            "Select an option to calculate area:\n",
            "1. Circle\n",
            "2. Square\n",
            "3. Rectangle\n",
            "4. Exit\n",
            "Exiting the program.\n"
          ]
        }
      ],
      "source": [
        "\n",
        "### YOUR CODE GOES BELOW\n",
        "import lab8helper\n",
        "\n",
        "def main():\n",
        "    while True:\n",
        "        print(\"\\nSelect an option to calculate area:\")\n",
        "        print(\"1. Circle\")\n",
        "        print(\"2. Square\")\n",
        "        print(\"3. Rectangle\")\n",
        "        print(\"4. Exit\")\n",
        "\n",
        "        choice = input(\"Enter your choice (1-4): \")\n",
        "\n",
        "        if choice == '1':\n",
        "            radius = float(input(\"Enter the radius of the circle: \"))\n",
        "            area = lab8helper.area_circle(radius)\n",
        "            print(f\"The area of the circle is: {area}\")\n",
        "\n",
        "        elif choice == '2':\n",
        "            side = float(input(\"Enter the side length of the square: \"))\n",
        "            area = lab8helper.area_square(side)\n",
        "            print(f\"The area of the square is: {area}\")\n",
        "\n",
        "        elif choice == '3':\n",
        "            length = float(input(\"Enter the length of the rectangle: \"))\n",
        "            width = float(input(\"Enter the width of the rectangle: \"))\n",
        "            area = lab8helper.area_rectangle(length, width)\n",
        "            print(f\"The area of the rectangle is: {area}\")\n",
        "\n",
        "        elif choice == '4':\n",
        "            print(\"Exiting the program.\")\n",
        "            break\n",
        "\n",
        "        else:\n",
        "            print(\"Invalid choice. Please select a valid option.\")\n",
        "\n",
        "\n",
        "main()\n",
        "\n",
        "\n",
        "### END CODE"
      ]
    },
    {
      "cell_type": "markdown",
      "metadata": {
        "id": "v0lF266FhIUY"
      },
      "source": [
        "## When completed, Save, download the notebook and upload into Canvas"
      ]
    },
    {
      "cell_type": "code",
      "execution_count": null,
      "metadata": {
        "id": "YxJBKQerhIUY"
      },
      "outputs": [],
      "source": []
    }
  ],
  "metadata": {
    "colab": {
      "provenance": []
    },
    "kernelspec": {
      "display_name": "Python 3",
      "language": "python",
      "name": "python3"
    },
    "language_info": {
      "codemirror_mode": {
        "name": "ipython",
        "version": 3
      },
      "file_extension": ".py",
      "mimetype": "text/x-python",
      "name": "python",
      "nbconvert_exporter": "python",
      "pygments_lexer": "ipython3",
      "version": "3.9.7"
    }
  },
  "nbformat": 4,
  "nbformat_minor": 0
}
