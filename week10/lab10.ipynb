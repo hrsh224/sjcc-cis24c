{
  "cells": [
    {
      "cell_type": "markdown",
      "metadata": {
        "id": "f9FK-4GVSYc_"
      },
      "source": [
        "# CIS024C -  Fall 2024\n",
        "\n",
        "## Lab 10\n",
        "\n",
        "*Lab 10 tests the below content*\n",
        "\n",
        "Python Classes\n",
        "\n",
        "- Basic Ideas\n",
        "- Operator overloading\n"
      ]
    },
    {
      "cell_type": "markdown",
      "metadata": {
        "id": "lbVrDEGKSYdE"
      },
      "source": [
        "#### Exercise 1  (20 points)\n",
        "\n",
        "Create a Python class **Calculator** with four member functions - add, subtract, multiply and divide\n",
        "\n",
        "__init__ method accepts two numbers\n",
        "\n",
        "__str__ method displays the numbers when the object is displayed using the print method\n",
        "\n",
        "Example: print(calcObject)\n",
        "Number 1: 10, Number 2: 20\n",
        "\n",
        "\n",
        "**Output**\n",
        "\n",
        "```\n",
        "\n",
        "Enter the first number: 10\n",
        "Enter the second number: 20\n",
        "\n",
        "Number 1: 10, Number 2: 20\n",
        "\n",
        "Sum: 30\n",
        "Difference: -10\n",
        "Product: 300\n",
        "Quotient: 0.5\n",
        "```\n"
      ]
    },
    {
      "cell_type": "code",
      "execution_count": 1,
      "metadata": {
        "id": "Lmj4P_mwSYdF",
        "outputId": "9391013c-2e18-4ba8-e48d-52e7c2e7acb1"
      },
      "outputs": [],
      "source": [
        "### YOUR CODE GOES BELOW\n",
        "# Define a class called Calculator\n",
        "class Calculator:\n",
        "    # Constructor method to initialize numbers\n",
        "    def __init__(self, num1, num2):\n",
        "        # Set the first number\n",
        "        self.number1 = num1\n",
        "        # Set the second number\n",
        "        self.number2 = num2\n",
        "\n",
        "    # Method to add the numbers\n",
        "    def add(self):\n",
        "        return self.number1 + self.number2\n",
        "\n",
        "    # Method to subtract the numbers\n",
        "    def subtract(self):\n",
        "        return self.number1 - self.number2\n",
        "\n",
        "    # Method to multiply the numbers\n",
        "    def multiply(self):\n",
        "        return self.number1 * self.number2\n",
        "\n",
        "    # Method to divide the numbers\n",
        "    def divide(self):\n",
        "        # Check if division by zero is attempted\n",
        "        if self.number2 != 0:\n",
        "            return self.number1 / self.number2\n",
        "        else:\n",
        "            return \"Cannot divide by zero.\"\n",
        "\n",
        "    # Special method to return a string representation of the object\n",
        "    def __str__(self):\n",
        "        return f\"Number 1: {self.number1}, Number 2: {self.number2}\"\n",
        "\n",
        "\n",
        "### END CODE"
      ]
    },
    {
      "cell_type": "code",
      "execution_count": 2,
      "metadata": {
        "id": "uxC-atemSYdJ"
      },
      "outputs": [
        {
          "name": "stdout",
          "output_type": "stream",
          "text": [
            "Number 1: 4.0, Number 2: 10.0\n",
            "Sum: 14.0\n",
            "Difference: -6.0\n",
            "Product: 40.0\n",
            "Quotient: 0.4\n"
          ]
        }
      ],
      "source": [
        "### YOUR CODE GOES BELOW\n",
        "num1 = float(input(\"Enter the first number: \"))\n",
        "num2 = float(input(\"Enter the second number: \"))\n",
        "\n",
        "# Create an object of the Calculator class\n",
        "calc = Calculator(num1, num2)\n",
        "\n",
        "# Display the numbers using the str method\n",
        "print(calc)\n",
        "\n",
        "# Perform calculations and display the results\n",
        "print(\"Sum:\", calc.add())\n",
        "print(\"Difference:\", calc.subtract())\n",
        "print(\"Product:\", calc.multiply())\n",
        "print(\"Quotient:\", calc.divide())\n",
        "\n",
        "\n",
        "### END CODE"
      ]
    },
    {
      "cell_type": "markdown",
      "metadata": {
        "id": "wuj_gEvMSYdK"
      },
      "source": [
        "#### Exercise 2 (20 points)\n",
        "Write a Python class called Employee with the following properties. Initialize the attributes during class creation. Instantiate the class and invoke its methods\n",
        "\n",
        "**Attributes**\n",
        "Name\n",
        "Age\n",
        "Salary\n",
        "\n",
        "**Methods**\n",
        "getName\n",
        "getAge\n",
        "getSalary.\n"
      ]
    },
    {
      "cell_type": "code",
      "execution_count": 3,
      "metadata": {
        "id": "hd9y0ZPMSYdK"
      },
      "outputs": [],
      "source": [
        "### YOUR CODE GOES BELOW\n",
        "# Define a class called Employee\n",
        "class Employee:\n",
        "    # Constructor method to initialize employee attributes\n",
        "    def __init__(self, name, age, salary):\n",
        "        # Set the employee's name\n",
        "        self.name = name\n",
        "        # Set the employee's age\n",
        "        self.age = age\n",
        "        # Set the employee's salary\n",
        "        self.salary = salary\n",
        "\n",
        "    # Method to get the employee's name\n",
        "    def getName(self):\n",
        "        return self.name\n",
        "\n",
        "    # Method to get the employee's age\n",
        "    def getAge(self):\n",
        "        return self.age\n",
        "\n",
        "    # Method to get the employee's salary\n",
        "    def getSalary(self):\n",
        "        return self.salary\n",
        "### END CODE"
      ]
    },
    {
      "cell_type": "code",
      "execution_count": 4,
      "metadata": {
        "id": "NpUmbTzPSYdL"
      },
      "outputs": [
        {
          "name": "stdout",
          "output_type": "stream",
          "text": [
            "Employee Name: Harish Allamraju\n",
            "Employee Age: 25\n",
            "Employee Salary: 50000.0\n"
          ]
        }
      ],
      "source": [
        "### YOUR CODE GOES BELOW\n",
        "# Instantiating the class and invoking its methods\n",
        "emp = Employee(\"Harish Allamraju\", 25, 50000.0)\n",
        "\n",
        "# Invoking the methods and displaying the results\n",
        "print(\"Employee Name:\", emp.getName())\n",
        "print(\"Employee Age:\", emp.getAge())\n",
        "print(\"Employee Salary:\", emp.getSalary())\n",
        "\n",
        "### END CODE"
      ]
    },
    {
      "cell_type": "markdown",
      "metadata": {
        "id": "1NYF1tSqSYdL"
      },
      "source": [
        "#### Exercise 3 (20 points)\n",
        "\n",
        "Add support to the previous class to allow for setting attributes of the members variables in the class using member functions. Make sure the actual member variables are private and cannot be accessed outside the class.\n",
        "\n",
        "Instantiate the class and invoke its methods\n",
        "\n",
        "You will add the below member functions in the class, and allow for updating of class attributes using these member functions\n",
        "\n",
        "setName\n",
        "setAge\n"
      ]
    },
    {
      "cell_type": "code",
      "execution_count": null,
      "metadata": {
        "id": "y58CQ4LPSYdL"
      },
      "outputs": [],
      "source": [
        "### YOUR CODE GOES BELOW\n",
        "class Employee:\n",
        "    # Constructor method to initialize employee attributes\n",
        "    def __init__(self, name, age, salary):\n",
        "        # Set the employee's name (using double underscore for private attribute)\n",
        "        self.__name = name\n",
        "        # Set the employee's age (using double underscore for private attribute)\n",
        "        self.__age = age\n",
        "        # Set the employee's salary (using double underscore for private attribute)\n",
        "        self.__salary = salary\n",
        "\n",
        "    # Method to get the employee's name\n",
        "    def getName(self):\n",
        "        return self.__name\n",
        "\n",
        "    # Method to get the employee's age\n",
        "    def getAge(self):\n",
        "        return self.__age\n",
        "\n",
        "    # Method to get the employee's salary\n",
        "    def getSalary(self):\n",
        "        return self.__salary\n",
        "\n",
        "    # Method to set the employee's name\n",
        "    def setName(self, name):\n",
        "        self.__name = name\n",
        "\n",
        "    # Method to set the employee's age\n",
        "    def setAge(self, age):\n",
        "        self.__age = age\n",
        "\n",
        "# Instantiating the class\n",
        "emp = Employee(\"John Doe\", 30, 50000.0)\n",
        "\n",
        "# Displaying initial attribute values\n",
        "print(\"Initial Employee Details:\")\n",
        "print(\"Employee Name:\", emp.getName())\n",
        "print(\"Employee Age:\", emp.getAge())\n",
        "print(\"Employee Salary:\", emp.getSalary())\n",
        "\n",
        "# Updating attribute values using member functions\n",
        "emp.setName(\"Jane Smith\")\n",
        "emp.setAge(35)\n",
        "\n",
        "# Displaying updated attribute values\n",
        "print(\"\\nUpdated Employee Details:\")\n",
        "print(\"Employee Name:\", emp.getName())\n",
        "print(\"Employee Age:\", emp.getAge())\n",
        "print(\"Employee Salary:\", emp.getSalary())\n",
        "\n",
        "### END CODE"
      ]
    },
    {
      "cell_type": "markdown",
      "metadata": {
        "id": "wbbAgkcXSYdM"
      },
      "source": [
        "#### Exercise 4 (20 points)\n",
        "\n",
        "For the Employee class, write a method that will print class details with the print method. Instantiate the class and invoke its methods.\n",
        "\n",
        "**Example**\n",
        "\n",
        "When print(employeeObject) is invoked the output should be\n",
        "\n",
        "```\n",
        "Name: Bob Wasserman\n",
        "Age: 47\n",
        "Salary: 110000\n",
        "```\n"
      ]
    },
    {
      "cell_type": "code",
      "execution_count": 7,
      "metadata": {
        "id": "3VbOxX0DSYdM"
      },
      "outputs": [
        {
          "name": "stdout",
          "output_type": "stream",
          "text": [
            "I am in print method\n"
          ]
        }
      ],
      "source": [
        "### YOUR CODE GOES BELOW\n",
        "# Define a class called Employee\n",
        "class Employee:\n",
        "    # Constructor method to initialize employee attributes\n",
        "    def __init__(self, name, age, salary):\n",
        "        # Set the employee's name (using double underscore for private attribute)\n",
        "        self.__name = name\n",
        "        # Set the employee's age (using double underscore for private attribute)\n",
        "        self.__age = age\n",
        "        # Set the employee's salary (using double underscore for private attribute)\n",
        "        self.__salary = salary\n",
        "\n",
        "    # Method to get the employee's name\n",
        "    def getName(self):\n",
        "        return self.__name\n",
        "\n",
        "    # Method to get the employee's age\n",
        "    def getAge(self):\n",
        "        return self.__age\n",
        "\n",
        "    # Method to get the employee's salary\n",
        "    def getSalary(self):\n",
        "        return self.__salary\n",
        "\n",
        "    # Method to set the employee's name\n",
        "    def setName(self, name):\n",
        "        self.__name = name\n",
        "\n",
        "    # Method to set the employee's age\n",
        "    def setAge(self, age):\n",
        "        self.__age = age\n",
        "\n",
        "    # Special method to return a string representation of the object\n",
        "    def __str__(self):\n",
        "        return f\"Name: {self.__name}\\nAge: {self.__age}\\nSalary: {self.__salary}\"\n",
        "        #return \"I am in print method\"\n",
        "\n",
        "# Instantiating the class\n",
        "emp = Employee(\"Bob Wasserman\", 47, 110000)\n",
        "\n",
        "# Printing the object to see the class details\n",
        "print(emp)\n",
        "### END CODE"
      ]
    },
    {
      "cell_type": "markdown",
      "metadata": {
        "id": "W43vO9-XSYdN"
      },
      "source": [
        "#### Exercise 5 (20 points)\n",
        "\n",
        "Create a Python class called Teacher derived from the Employee class. Add the below properties and methods to the Teacher class.\n",
        "\n",
        "*Attributes*\n",
        "\n",
        "Course Name\n",
        "\n",
        "*Methods*\n",
        "\n",
        "getCourseName\n",
        "\n",
        "Initialize the course name in the constructor. Invoke the class method to display the course name\n"
      ]
    },
    {
      "cell_type": "markdown",
      "metadata": {
        "id": "ONxUcfqeSYdN"
      },
      "source": [
        "#### Exercise 5"
      ]
    },
    {
      "cell_type": "code",
      "execution_count": null,
      "metadata": {
        "id": "zQ5axwtHSYdO"
      },
      "outputs": [],
      "source": [
        "### YOUR CODE GOES BELOW\n",
        "# Define a subclass of Employee called Teacher\n",
        "class Teacher(Employee):\n",
        "    # Constructor method to initialize teacher attributes\n",
        "    def __init__(self, name, age, salary, course_name):\n",
        "        # Call the constructor of the base class (Employee) using super()\n",
        "        super().__init__(name, age, salary)\n",
        "        # Set the course name (specific to Teacher subclass)\n",
        "        self.courseName = course_name\n",
        "\n",
        "    # Method to get the course name\n",
        "    def getCourseName(self):\n",
        "        return self.courseName\n",
        "\n",
        "# Instantiating the Teacher class\n",
        "teacher = Teacher(\"Alice Johnson\", 35, 60000, \"Python Programming\")\n",
        "\n",
        "# Displaying employee details using the methods from the base class (Employee)\n",
        "print(\"Teacher Details:\")\n",
        "print(\"Name:\", teacher.getName())  # Calls the getName method from the Employee class\n",
        "print(\"Age:\", teacher.getAge())  # Calls the getAge method from the Employee class\n",
        "print(\"Salary:\", teacher.getSalary())  # Calls the getSalary method from the Employee class\n",
        "\n",
        "# Displaying course name using the method from the derived class (Teacher)\n",
        "print(\"Course Name:\", teacher.getCourseName())  # Calls the getCourseName method specific to Teacher\n",
        "\n",
        "### END CODE"
      ]
    },
    {
      "cell_type": "markdown",
      "metadata": {
        "id": "fh3ZCp05SYdO"
      },
      "source": [
        "## When completed, Save, and share the URL of notebook into Canvas"
      ]
    },
    {
      "cell_type": "code",
      "execution_count": null,
      "metadata": {
        "id": "UGI-2LqCSYdP"
      },
      "outputs": [],
      "source": []
    }
  ],
  "metadata": {
    "colab": {
      "provenance": []
    },
    "kernelspec": {
      "display_name": "Python 3",
      "language": "python",
      "name": "python3"
    },
    "language_info": {
      "codemirror_mode": {
        "name": "ipython",
        "version": 3
      },
      "file_extension": ".py",
      "mimetype": "text/x-python",
      "name": "python",
      "nbconvert_exporter": "python",
      "pygments_lexer": "ipython3",
      "version": "3.9.7"
    }
  },
  "nbformat": 4,
  "nbformat_minor": 0
}
