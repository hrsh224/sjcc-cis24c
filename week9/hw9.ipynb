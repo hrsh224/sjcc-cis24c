{
  "cells": [
    {
      "cell_type": "markdown",
      "metadata": {
        "id": "hFK3V3U-PNOs"
      },
      "source": [
        "\n",
        "# CIS024C -  Fall 2024\n",
        "\n",
        "## Homework 9\n",
        "\n",
        "Homework 9 covers exercises that involve the creation and execution of command line Python programs and passing arguments to a Python program.\n"
      ]
    },
    {
      "cell_type": "markdown",
      "metadata": {
        "id": "zJouEL1zPNOy"
      },
      "source": [
        "#### Check Python Version"
      ]
    },
    {
      "cell_type": "code",
      "execution_count": null,
      "metadata": {
        "id": "e7z4rEmAPNOy",
        "outputId": "9fb44479-1b45-4e0f-add5-995a3a6c3f44"
      },
      "outputs": [],
      "source": [
        "!python --version"
      ]
    },
    {
      "cell_type": "markdown",
      "metadata": {
        "id": "vxYukbWVPNO0"
      },
      "source": [
        "#### Exercise 1 - Testing your knowledge of command line programs **\n",
        "\n",
        "Answer the below questions\n",
        "\n",
        "1. What is the benefit of executing a program from the command line as opposed to running it from within an editor like Jupyter or Spyder.\n",
        "2. Name a Python library that you would use in order to pass arguments from the command line"
      ]
    },
    {
      "cell_type": "markdown",
      "metadata": {
        "id": "k1eBBCVNPNO0"
      },
      "source": [
        "<< Double click this cell and enter your result >>"
      ]
    },
    {
      "cell_type": "markdown",
      "metadata": {
        "id": "H5Ckn2k2PNO0"
      },
      "source": [
        "#### Exercise 2 -  Creating and executing a command line program\n",
        "\n",
        "Write a standalone Python program main.py that computes the factorial of a number. Make sure to make this program a .py file, something you can run from the command line.\n",
        "\n",
        "The number is already added as a variable in your program. You just need to write the code to compute and display the factorial\n",
        "\n",
        "The factorial of a number is the product of all the integers from 1 leading up to the number.\n",
        "\n",
        "For example, the factorial of 6 is\n",
        "\n",
        "```\n",
        "1*2*3*4*5*6 = 720\n",
        "```\n",
        "\n",
        "**Note:**\n",
        "* You can use the %%writefile magic command in Jupyter to create this file, or you can simply use an external editor to create this file. Please refer to classwork in Github for examples."
      ]
    },
    {
      "cell_type": "code",
      "execution_count": null,
      "metadata": {
        "id": "EHsZnIjUPNO0",
        "outputId": "2535ec3f-e581-4f50-c1ab-e07a74e9b17e"
      },
      "outputs": [],
      "source": [
        "%%writefile W9E2main.py\n",
        "\n",
        "### YOUR CODE GOES\n",
        "# Function to compute the factorial of a number\n",
        "def factorial(n):\n",
        "    if n == 0:\n",
        "        return 1\n",
        "    else:\n",
        "        return n * factorial(n - 1)\n",
        "\n",
        "# Given number\n",
        "number = 5  # You can change this number to compute factorial for a different number\n",
        "\n",
        "# Compute factorial\n",
        "result = factorial(number)\n",
        "\n",
        "# Display the result\n",
        "print(f\"The factorial of {number} is: {result}\")\n",
        "\n",
        "\n",
        "### END CODE"
      ]
    },
    {
      "cell_type": "code",
      "execution_count": null,
      "metadata": {
        "id": "Hfnyj2BhPNO0"
      },
      "outputs": [],
      "source": [
        "# You can execute this cell in order to check your result\n",
        "!python3 W9E2main.py"
      ]
    },
    {
      "cell_type": "markdown",
      "metadata": {
        "id": "lcM2zHDcPNO1"
      },
      "source": [
        "#### Exercise 3 - Accepting arguments from the command line\n",
        "\n",
        "Repeat the command line program above, however, this time, instead of using the number in the file, you will get input from the user via the command line.\n",
        "\n",
        "**Note**\n",
        "You can use sys.argv or argparse, whichever you are more comfortable with.\n",
        "\n",
        "How does sys.argv work?\n",
        "\n",
        "To use sys.argv, you will first need to import the sys module.\n",
        "\n",
        "When you invoke a program from the command line, sys.argv is a list that will hold the program arguments\n",
        "\n",
        "sys.argv[0] - has the program name\n",
        "sys.argv[1] - has the first argument\n",
        "sys.argv[2] - has the second argument\n",
        "and so on...\n",
        "\n",
        "For example, if you are invoking the below command from the command line\n",
        "```\n",
        "python main.py 3\n",
        "```\n",
        "\n",
        "then,\n",
        "\n",
        "sys.argv[0] will be main.py\n",
        "sys.argv[1] will be 3\n",
        "\n",
        "Note that all the variables got from sys.argv are strings, so if you are expecting integers, you will need to convert the variable from string to integer using the int function.\n",
        "\n",
        "example,\n",
        "```\n",
        "number = int(sys.argv[1])\n",
        "```"
      ]
    },
    {
      "cell_type": "code",
      "execution_count": null,
      "metadata": {
        "id": "o8bYMCvIPNO1"
      },
      "outputs": [],
      "source": [
        "%%writefile W9E3main.py\n",
        "\n",
        "\n",
        "### YOUR CODE GOES BELOW\n",
        "import sys\n",
        "\n",
        "# Function to compute the factorial of a number\n",
        "def factorial(n):\n",
        "    if n == 0:\n",
        "        return 1\n",
        "    else:\n",
        "        return n * factorial(n - 1)\n",
        "\n",
        "# Check if the correct number of arguments is provided\n",
        "if len(sys.argv) != 2:\n",
        "    print(\"Usage: python W9E3main.py <number>\")\n",
        "    sys.exit(1)\n",
        "\n",
        "# Get the number from command line argument\n",
        "try:\n",
        "    number = int(sys.argv[1])\n",
        "except ValueError:\n",
        "    print(\"Please provide a valid integer.\")\n",
        "    sys.exit(1)\n",
        "\n",
        "# Compute factorial\n",
        "result = factorial(number)\n",
        "\n",
        "# Display the result\n",
        "print(f\"The factorial of {number} is: {result}\")\n",
        "\n",
        "\n",
        "\n",
        "### END CODE"
      ]
    },
    {
      "cell_type": "code",
      "execution_count": null,
      "metadata": {},
      "outputs": [],
      "source": [
        "!python3 W9E3main.py 1 2"
      ]
    },
    {
      "cell_type": "markdown",
      "metadata": {
        "id": "j43TBOdAPNO1"
      },
      "source": [
        "#### Exercise 4 - Adding 2 numbers - Command Line programs with multiple modules\n",
        "\n",
        "This is also an extension to Exercises 2 and 3.\n",
        "\n",
        "Write a Python program to add two numbers. Your Python program must have a function called **add** that is placed in a separate module called **helper.py**. Your main program, which is also a standalone Python program **main.py** must import **helper.py** and use this module to add the two numbers.\n",
        "\n",
        "The numbers to be added must be passed via the command line.\n",
        "\n",
        "Here is an example of how your program would be invoked assuming the numbers to be added are 3 and 2\n",
        "\n",
        "**python main.py 3 2**\n",
        "\n",
        "\n",
        "\n"
      ]
    },
    {
      "cell_type": "code",
      "execution_count": null,
      "metadata": {
        "id": "x521xpSnPNO2",
        "outputId": "eb90db2b-31dc-41ae-b688-ece025f3c280"
      },
      "outputs": [],
      "source": [
        "%%writefile helper.py\n",
        "\n",
        "### YOUR CODE to set up the helper function GOES BELOW\n",
        "def add(x, y):\n",
        "    return x + y\n",
        "\n",
        "\n",
        "### END CODE"
      ]
    },
    {
      "cell_type": "code",
      "execution_count": null,
      "metadata": {
        "id": "t4sxYxRSPNO2",
        "outputId": "1bbecf3f-b3c7-46e3-cfab-6de4b05ff3c2"
      },
      "outputs": [],
      "source": [
        "%%writefile W9E4main.py\n",
        "\n",
        "### YOUR CODE to set up the main function GOES BELOW\n",
        "import sys\n",
        "import helper\n",
        "\n",
        "def main():\n",
        "    # Check if the correct number of arguments is provided\n",
        "    if len(sys.argv) != 3:\n",
        "        print(\"Usage: python main.py <number1> <number2>\")\n",
        "        return\n",
        "\n",
        "    # Get the numbers from command line arguments\n",
        "    try:\n",
        "        num1 = float(sys.argv[1])\n",
        "        num2 = float(sys.argv[2])\n",
        "    except ValueError:\n",
        "        print(\"Please provide valid numbers.\")\n",
        "        return\n",
        "\n",
        "    # Add the numbers using the add function from helper.py\n",
        "    result = helper.add(num1, num2)\n",
        "\n",
        "    # Display the result\n",
        "    print(f\"The sum of {num1} and {num2} is: {result}\")\n",
        "\n",
        "if __name__ == \"__main__\":\n",
        "    main()\n",
        "\n",
        "### END CODE"
      ]
    },
    {
      "cell_type": "code",
      "execution_count": null,
      "metadata": {
        "id": "DKen-DD5PNO2"
      },
      "outputs": [],
      "source": [
        "# Run this cell to test your code\n",
        "!python3 W9E4main.py 5 6"
      ]
    },
    {
      "cell_type": "markdown",
      "metadata": {
        "id": "H5E4dFNpPNO3"
      },
      "source": [
        "#### Exercise 5 - Python program with multiple modules to sort a list of numbers\n",
        "\n",
        "Write a Python program to sort a list of numbers in ascending order. Your Python program must have a function called **sortNumbers** that is placed in a separate module called **sorthelper.py**. This function **sortNumbers** accepts a **list** of numbers. Your main program, which is also a standalone Python program **main.py** must import **sorthelper.py** and use this module to sort the numbers.\n",
        "\n",
        "The numbers to be sorted must be passed via the command line.\n",
        "\n",
        "**You can use the argparse library or sys.argv to process your input.**\n",
        "\n",
        "Here is an example of how your program would be invoked assuming the numbers to be sorted are 5 4 3 and 8\n",
        "\n",
        "**python main.py 5 4 3 8**"
      ]
    },
    {
      "cell_type": "code",
      "execution_count": null,
      "metadata": {
        "id": "NTvl9K_8PNO3",
        "outputId": "6f1e2d8e-ea97-447c-f4f5-6c027cad8f15"
      },
      "outputs": [],
      "source": [
        "%%writefile sorthelper.py\n",
        "### YOUR CODE GOES BELOW\n",
        "def sortNumbers(numbers):\n",
        "    return sorted(numbers)\n",
        "\n",
        "\n",
        "\n",
        "### END CODE"
      ]
    },
    {
      "cell_type": "code",
      "execution_count": null,
      "metadata": {
        "id": "pjLGs1pqPNO3",
        "outputId": "33c2b39b-dd94-4580-fdbf-b4d3b53f9ac6"
      },
      "outputs": [],
      "source": [
        "%%writefile W9E5main.py\n",
        "### YOUR CODE GOES BELOW\n",
        "import sys\n",
        "import sorthelper\n",
        "\n",
        "def main():\n",
        "    # Check if the correct number of arguments is provided\n",
        "    if len(sys.argv) < 2:\n",
        "        print(\"Usage: python W9E5main.py <number1> <number2> ...\")\n",
        "        return\n",
        "\n",
        "    # Get the numbers from command line arguments\n",
        "    numbers = []\n",
        "    for arg in sys.argv[1:]:\n",
        "        try:\n",
        "            numbers.append(float(arg))\n",
        "        except ValueError:\n",
        "            print(\"Please provide valid numbers.\")\n",
        "            return\n",
        "\n",
        "    # Sort the numbers using the sortNumbers function from sorthelper.py\n",
        "    sorted_numbers = sorthelper.sortNumbers(numbers)\n",
        "\n",
        "    # Display the sorted numbers\n",
        "    print(\"Sorted numbers:\", sorted_numbers)\n",
        "\n",
        "if __name__ == \"__main__\":\n",
        "    main()\n",
        "\n",
        "\n",
        "### END CODE"
      ]
    },
    {
      "cell_type": "code",
      "execution_count": null,
      "metadata": {
        "id": "8BsGpGd4PNO3"
      },
      "outputs": [],
      "source": [
        "# Run this cell to test your code\n",
        "!python3 W9E5main.py 5"
      ]
    }
  ],
  "metadata": {
    "colab": {
      "provenance": []
    },
    "kernelspec": {
      "display_name": "Python 3",
      "language": "python",
      "name": "python3"
    },
    "language_info": {
      "codemirror_mode": {
        "name": "ipython",
        "version": 3
      },
      "file_extension": ".py",
      "mimetype": "text/x-python",
      "name": "python",
      "nbconvert_exporter": "python",
      "pygments_lexer": "ipython3",
      "version": "3.9.7"
    }
  },
  "nbformat": 4,
  "nbformat_minor": 0
}
