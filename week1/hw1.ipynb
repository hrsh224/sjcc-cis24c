{
  "cells": [
    {
      "cell_type": "markdown",
      "metadata": {
        "id": "dwR5N-TSQn8-"
      },
      "source": [
        "# CIS024C - Spring 2024 - HW1\n",
        "\n",
        "## Homework 1\n",
        "\n",
        "Homework 1 covers some of the basics including setup and installation of Anaconda/Jupyter for python development\n",
        "\n",
        "You will need to download this notebook and use this as a starting point for your homework. You will just need to fill in the content of each code-block (cell) and execute. Once you have completed all the exercises, you will need to save this notebook and upload it into Canvas.\n",
        "\n",
        "Note also the exercises build on top of one another so you might be able to do the next exercise if you have not completed the previous exercise.\n"
      ]
    },
    {
      "cell_type": "markdown",
      "metadata": {
        "id": "YwmEFCTWQn9G"
      },
      "source": [
        "### 1. Install Anaconda/Jupyter Notebook on your computer\n",
        "\n",
        "#### Steps\n",
        "1. Go to https://www.anaconda.com/download and download the appropriate anaconda distribution for your Windows or Mac computer. Make sure to select the version of Anaconda corresponding to Python 3.x\n",
        "2. Install the Anaconda distribution on your computer.\n",
        "3. Open the newly installed Anaconda application.\n",
        "4. Launch Jupyter Notebook from the set of Anaconda applications.\n",
        "5. You should see a page open in your browser. This is where you will enter your Python code.\n"
      ]
    },
    {
      "cell_type": "markdown",
      "metadata": {
        "id": "5eR7zLasQn9H"
      },
      "source": [
        "### 2 Coding Exercises\n",
        "\n",
        "In this section of the homework, you will be doing some simple coding exercise to familiarize yourself with your Python development environment - Jupyter. A development environment is also referred to as an IDE or Integrated Development Environment.\n",
        "\n",
        "Below are some useful commands to know when using Jupyter\n",
        "\n",
        "1. You can add a new cell by clicking on the \"+\" icon on top.\n",
        "2. You can delete a cell by selecting that cell and clicking on the \"scissors\" icon on top.\n",
        "3. You can execute a cell by either pressing shift+enter or selecting the \"play\" button on top.\n",
        "4. You can create a new file in Jupyter via the File menu->New Notebook option. Make sure to select Python 2 when creating your notebook.\n",
        "5. Also, for your code blocks make sure that Code is selected instead of another option like Markdown.\n",
        "6. Use the Enter key to go to the next line in a cell to enter the next statement.\n",
        "7. You can clear results by clicking on the Cell menu item and selecting Current Output->Clear or All Output->Clear depending on whether you are trying to just clear the output for one cell or for all cells.\n",
        "8. In case your program has crashed for some reason (infinite loop, for example), you can restart your Python session by select Kernel in the menu and selecting Restart.\n"
      ]
    },
    {
      "cell_type": "markdown",
      "metadata": {
        "id": "2BiMXU4mQn9H"
      },
      "source": [
        "#### Sample Exercise 1\n",
        "\n",
        "Create two variables x and y. Assign the value of 5 to x and 10 to y. Display the result for x and y"
      ]
    },
    {
      "cell_type": "code",
      "execution_count": null,
      "metadata": {
        "colab": {
          "base_uri": "https://localhost:8080/"
        },
        "id": "v9nGJ8a6Qn9H",
        "outputId": "4804316f-bb1f-428d-827f-93c22d995b63"
      },
      "outputs": [
        {
          "name": "stdout",
          "output_type": "stream",
          "text": [
            "5 10\n"
          ]
        }
      ],
      "source": [
        "# Define variables x and y\n",
        "x = 5\n",
        "y = 10\n",
        "print(f\"The values of x and y are: {x} ,{y}\")"
      ]
    },
    {
      "cell_type": "markdown",
      "metadata": {
        "id": "0u5E_zF4Qn9J"
      },
      "source": [
        "#### Sample Exercise 2\n",
        "\n",
        "Create two variables x and y. Assign an arbitrary value to them. Find the sum of x and y and assign to a new variable z. Display the result for z"
      ]
    },
    {
      "cell_type": "code",
      "execution_count": null,
      "metadata": {
        "colab": {
          "base_uri": "https://localhost:8080/"
        },
        "id": "9BzPH1lPQn9J",
        "outputId": "49d197a3-a25c-44c7-9798-d637dd41943d"
      },
      "outputs": [
        {
          "name": "stdout",
          "output_type": "stream",
          "text": [
            "30\n"
          ]
        }
      ],
      "source": [
        "# Define variables x and y\n",
        "x = 10\n",
        "y = 20\n",
        "# Add x and y\n",
        "z = x + y\n",
        "\n",
        "print(f\"The value of z is: {z}\")"
      ]
    },
    {
      "cell_type": "markdown",
      "metadata": {
        "id": "NzeTBGE5Qn9K"
      },
      "source": [
        "#### Exercise 2.1\n",
        "\n",
        "Create two variables a and b. Assign 15 to a and 16 to b. Display the result of a and b."
      ]
    },
    {
      "cell_type": "code",
      "execution_count": 3,
      "metadata": {
        "collapsed": true,
        "id": "kjlw1cCNQn9K"
      },
      "outputs": [
        {
          "name": "stdout",
          "output_type": "stream",
          "text": [
            "The value of z is: 31\n"
          ]
        }
      ],
      "source": [
        "### YOUR CODE GOES BELOW\n",
        "a = 15\n",
        "b = 16\n",
        "\n",
        "z = a + b\n",
        "print(f\"The value of z is: {z}\")\n",
        "\n",
        "### END CODE"
      ]
    },
    {
      "cell_type": "markdown",
      "metadata": {
        "id": "_s4hhK1MQn9K"
      },
      "source": [
        "#### Exercise 2.2\n",
        "\n",
        "* Create a string variable called **greeting**. Assign the string \"Hi there!\" to this variable.\n",
        "* Create another string variable called **person**. Assign the string \"Wilde\" to this variable"
      ]
    },
    {
      "cell_type": "code",
      "execution_count": null,
      "metadata": {
        "collapsed": true,
        "id": "Oui9yUzzQn9K"
      },
      "outputs": [],
      "source": [
        "### YOUR CODE GOES BELOW\n",
        "greeting = \"Hi there!\"\n",
        "\n",
        "person = \"Wilde\"\n",
        "\n",
        "\n",
        "### END CODE"
      ]
    },
    {
      "cell_type": "markdown",
      "metadata": {
        "id": "8l6M-jDQQn9L"
      },
      "source": [
        "#### Exercise 2.3\n",
        "\n",
        "* Concatenate the two variables **greeting** and **person** to create a new variable **personalGreeting**\n",
        "* Display the result.\n",
        "* Make sure to include a space between the greeting, and the name of the person so that the display looks good"
      ]
    },
    {
      "cell_type": "code",
      "execution_count": 4,
      "metadata": {
        "collapsed": true,
        "id": "EYOo_ryYQn9M"
      },
      "outputs": [
        {
          "name": "stdout",
          "output_type": "stream",
          "text": [
            "Hi there! Wilde\n"
          ]
        }
      ],
      "source": [
        "### YOUR CODE GOES BELOW\n",
        "greeting = \"Hi there!\"\n",
        "\n",
        "person = \"Wilde\"\n",
        "personalGreeting = greeting + \" \" + person\n",
        "\n",
        "print(personalGreeting)\n",
        "\n",
        "### END CODE"
      ]
    },
    {
      "cell_type": "markdown",
      "metadata": {
        "id": "vK_-8EaUQn9M"
      },
      "source": [
        "#### Exercise 2.4\n",
        "\n",
        "* Use the **input** utility to ask the user to enter his/her name.\n",
        "* Assign this to a variable called **name**\n",
        "* Use the **print** function to display the variable **name**\n",
        "\n",
        "Refer to the class slides for a description of how input works."
      ]
    },
    {
      "cell_type": "code",
      "execution_count": 5,
      "metadata": {
        "collapsed": true,
        "id": "PVtyhMdNQn9M"
      },
      "outputs": [
        {
          "name": "stdout",
          "output_type": "stream",
          "text": [
            "harish\n"
          ]
        }
      ],
      "source": [
        "### YOUR CODE GOES BELOW\n",
        "name = input(\"Please enter your name: \")\n",
        "\n",
        "print(name)\n",
        "\n",
        "\n",
        "### END CODE"
      ]
    },
    {
      "cell_type": "markdown",
      "metadata": {
        "id": "kzSRNbWLQn9N"
      },
      "source": [
        "#### Exercise 2.5\n",
        "\n",
        "* Use the **input** utility to ask the user to enter his/her age and assign to a variable **age**\n",
        "* Use the **int** function to conver the input to an integer\n",
        "* Use the **print** function to display the variable **age**"
      ]
    },
    {
      "cell_type": "code",
      "execution_count": null,
      "metadata": {
        "collapsed": true,
        "id": "ifDISgqcQn9N"
      },
      "outputs": [],
      "source": [
        "### YOUR CODE GOES BELOW\n",
        "age = input(\"Please enter your age: \")\n",
        "\n",
        "age = int(age)\n",
        "\n",
        "print(age)\n",
        "\n",
        "\n",
        "### END CODE"
      ]
    },
    {
      "cell_type": "markdown",
      "metadata": {
        "id": "po7aLu_fQn9N"
      },
      "source": [
        "#### Exercise 2.6 - Integers\n",
        "\n",
        "* Use the input function to obtain an integer **number** from the user. The number must be a positive integer, for example 10\n",
        "* What is one-tenth of this number\n",
        "* Use the **integer division operator //** to divide the number by 4 and display the result\n",
        "* Use the **modulus operator %** to find the reminder when the number input by the user is divided by 2\n",
        "\n",
        "Notice the result and see if you can understand how they are different."
      ]
    },
    {
      "cell_type": "code",
      "execution_count": 6,
      "metadata": {
        "collapsed": true,
        "id": "f-VPCdw3Qn9N"
      },
      "outputs": [
        {
          "name": "stdout",
          "output_type": "stream",
          "text": [
            "One-tenth of the number is: 0.5\n",
            "Result of the division by 4 using integer division operator is: 1\n",
            "Remainder when the number is divided by 2 is: 1\n"
          ]
        }
      ],
      "source": [
        "### YOUR CODE GOES BELOW\n",
        "number = int(input(\"Please enter a positive integer: \"))\n",
        "\n",
        "one_tenth = number / 10\n",
        "\n",
        "print(\"One-tenth of the number is:\", one_tenth)\n",
        "\n",
        "division_result = number // 4\n",
        "print(\"Result of the division by 4 using integer division operator is:\", division_result)\n",
        "\n",
        "remainder = number % 2\n",
        "print(\"Remainder when the number is divided by 2 is:\", remainder)\n",
        "\n",
        "\n",
        "### END CODE"
      ]
    },
    {
      "cell_type": "markdown",
      "metadata": {
        "id": "ssfWbhpaQn9N"
      },
      "source": [
        "#### Exercise 2.7 - Floats\n",
        "\n",
        "* Use the input function to obtain a floating point **number** from the user. Make sure to include a decimal part, example, 100.62\n",
        "* What is one-tenth of this number\n",
        "* Use the **integer division operator //** to divide the number by 4 and display the result\n",
        "* Use the **modulus operator %** to find the reminder when the number input by the user is divided by 2\n",
        "\n",
        "Try to understand the difference between how mathematical operations differ when operated on floats and integers"
      ]
    },
    {
      "cell_type": "code",
      "execution_count": 7,
      "metadata": {
        "collapsed": true,
        "id": "i2qiAYQhQn9O"
      },
      "outputs": [
        {
          "name": "stdout",
          "output_type": "stream",
          "text": [
            "One-tenth of the number is: 0.55\n",
            "Result of the division by 4 using integer division operator is: 1.0\n",
            "Remainder when the number is divided by 2 is: 1.5\n"
          ]
        }
      ],
      "source": [
        "### YOUR CODE GOES BELOW\n",
        "number = float(input(\"Please enter a floating point number: \"))\n",
        "\n",
        "one_tenth = number / 10\n",
        "\n",
        "print(\"One-tenth of the number is:\", one_tenth)\n",
        "\n",
        "division_result = number // 4\n",
        "print(\"Result of the division by 4 using integer division operator is:\", division_result)\n",
        "\n",
        "remainder = number % 2\n",
        "print(\"Remainder when the number is divided by 2 is:\", remainder)\n",
        "\n",
        "\n",
        "### END CODE"
      ]
    },
    {
      "cell_type": "markdown",
      "metadata": {
        "id": "LmgEGu9uQn9O"
      },
      "source": [
        "#### Exercise 2.8 - Booleans\n",
        "\n",
        "* Step 1: Create an integer variable called **myAge** and assign the value 21 to it\n",
        "* Step 2: Create another integer variable called **yourAge** and assign the value 25 to it.\n",
        "* Step 3: Use the comparison operator \"==\" (double-equals) to compare the two variables. Assign the result of the comparison to a new variable called **result**\n",
        "* Step 4: Display **result**.\n",
        "\n",
        "* Repeat Step 3 and Step 4 using the below comparison operators and display the result\n",
        "    * \">\" (greater than),\n",
        "    * \"<\" (less than),\n",
        "    * \">=\" (greater than or equal to)\n",
        "    * and \"<=\" (less than or equal to)\n",
        "\n",
        "Notice that the result of a comparison operation is a boolean variable - True or False"
      ]
    },
    {
      "cell_type": "code",
      "execution_count": 8,
      "metadata": {
        "collapsed": true,
        "id": "D0Tvhk0xQn9O"
      },
      "outputs": [
        {
          "name": "stdout",
          "output_type": "stream",
          "text": [
            "myAge == yourAge: False\n",
            "myAge > yourAge: False\n",
            "myAge < yourAge: True\n",
            "myAge >= yourAge: False\n",
            "myAge <= yourAge: True\n"
          ]
        }
      ],
      "source": [
        "### YOUR CODE GOES BELOW\n",
        "myAge = 21\n",
        "yourAge = 25\n",
        "\n",
        "# Step 3: Use the comparison operator \"==\" to compare the two variables. Assign the result of the comparison to a new variable called result\n",
        "result_equal = myAge == yourAge\n",
        "\n",
        "# Step 4: Display result\n",
        "print(\"myAge == yourAge:\", result_equal)\n",
        "\n",
        "# Step 3 (repeat): Use the comparison operator \">\" to compare the two variables. Assign the result of the comparison to a new variable called result\n",
        "result_greater_than = myAge > yourAge\n",
        "\n",
        "# Step 4 (repeat): Display result\n",
        "print(\"myAge > yourAge:\", result_greater_than)\n",
        "\n",
        "# Step 3 (repeat): Use the comparison operator \"<\" to compare the two variables. Assign the result of the comparison to a new variable called result\n",
        "result_less_than = myAge < yourAge\n",
        "\n",
        "# Step 4 (repeat): Display result\n",
        "print(\"myAge < yourAge:\", result_less_than)\n",
        "\n",
        "# Step 3 (repeat): Use the comparison operator \">=\" to compare the two variables. Assign the result of the comparison to a new variable called result\n",
        "result_greater_than_or_equal = myAge >= yourAge\n",
        "\n",
        "# Step 4 (repeat): Display result\n",
        "print(\"myAge >= yourAge:\", result_greater_than_or_equal)\n",
        "\n",
        "# Step 3 (repeat): Use the comparison operator \"<=\" to compare the two variables. Assign the result of the comparison to a new variable called result\n",
        "result_less_than_or_equal = myAge <= yourAge\n",
        "\n",
        "# Step 4 (repeat): Display result\n",
        "print(\"myAge <= yourAge:\", result_less_than_or_equal)\n",
        "\n",
        "\n",
        "### END CODE"
      ]
    },
    {
      "cell_type": "markdown",
      "metadata": {
        "id": "eRPEtVooQn9O"
      },
      "source": [
        "####  Exercise 2.9 - Type operator\n",
        "\n",
        "* Use the input function to accept three variables from the user\n",
        "    * Integer variable\n",
        "    * Floating point variable\n",
        "    * String Variable\n",
        "* Use the **type** function, to display the type of this number\n",
        "\n",
        "type(variable_name)\n",
        "\n",
        "Note the variable type\n"
      ]
    },
    {
      "cell_type": "code",
      "execution_count": 9,
      "metadata": {
        "id": "D7hiaN3SQn9O"
      },
      "outputs": [
        {
          "name": "stdout",
          "output_type": "stream",
          "text": [
            "Type of integer_variable: <class 'int'>\n",
            "Type of float_variable: <class 'float'>\n",
            "Type of string_variable: <class 'str'>\n"
          ]
        }
      ],
      "source": [
        "### YOUR CODE GOES BELOW\n",
        "integer_variable = int(input(\"Please enter an integer: \"))\n",
        "\n",
        "float_variable = float(input(\"Please enter a floating point number: \"))\n",
        "\n",
        "string_variable = input(\"Please enter a string: \")\n",
        "\n",
        "print(\"Type of integer_variable:\", type(integer_variable))\n",
        "print(\"Type of float_variable:\", type(float_variable))\n",
        "print(\"Type of string_variable:\", type(string_variable))\n",
        "\n",
        "\n",
        "### END CODE"
      ]
    },
    {
      "cell_type": "markdown",
      "metadata": {
        "id": "7SCh9d6-Qn9O"
      },
      "source": [
        "####  Exercise 2.10 - Printing your name\n",
        "\n",
        "* Write a Python program to print your name in the below pattern\n",
        "* For example, if your name is 'Charlie', you will print the below pattern\n",
        "\n",
        "```\n",
        "C\n",
        "CH\n",
        "CHA\n",
        "CHAR\n",
        "CHARL\n",
        "CHARLI\n",
        "CHARLIE\n",
        "```"
      ]
    },
    {
      "cell_type": "code",
      "execution_count": 10,
      "metadata": {
        "id": "U3t_XTOvQn9O"
      },
      "outputs": [
        {
          "name": "stdout",
          "output_type": "stream",
          "text": [
            "H\n",
            "Ha\n",
            "Har\n",
            "Hari\n",
            "Haris\n",
            "Harish\n"
          ]
        }
      ],
      "source": [
        "### YOUR CODE GOES BELOW\n",
        "name = \"Harish\"\n",
        "\n",
        "# Iterate over each character in the name\n",
        "for i in range(1, len(name) + 1):\n",
        "    # Print the substring of the name up to the current character\n",
        "    print(name[:i])\n",
        "\n",
        "\n",
        "### END CODE"
      ]
    }
  ],
  "metadata": {
    "colab": {
      "provenance": []
    },
    "kernelspec": {
      "display_name": "Python 3",
      "language": "python",
      "name": "python3"
    },
    "language_info": {
      "codemirror_mode": {
        "name": "ipython",
        "version": 3
      },
      "file_extension": ".py",
      "mimetype": "text/x-python",
      "name": "python",
      "nbconvert_exporter": "python",
      "pygments_lexer": "ipython3",
      "version": "3.9.7"
    }
  },
  "nbformat": 4,
  "nbformat_minor": 0
}
