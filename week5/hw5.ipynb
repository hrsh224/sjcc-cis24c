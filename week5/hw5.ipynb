{
  "cells": [
    {
      "cell_type": "markdown",
      "metadata": {
        "id": "A8qRwIQBaLJM"
      },
      "source": [
        "\n",
        "\n",
        "\n",
        "# CIS024C -  Fall 2024\n",
        "\n",
        "## Homework 5\n",
        "\n",
        "Homework 5 covers exercises that involve working with files\n",
        "\n",
        "The below sites have some interesting and useful information on working with files\n",
        "\n",
        "http://www.pythonforbeginners.com/files/reading-and-writing-files-in-python\n",
        "\n",
        "You will need to save your notebook and share its URL as the answer of your Homework.\n",
        "\n"
      ]
    },
    {
      "cell_type": "markdown",
      "metadata": {
        "id": "Y4rP9UbQaLJO"
      },
      "source": [
        "### Helpful Jupyter Commands\n",
        "\n",
        "Below are some useful commands to know when using Jupyter\n",
        "\n",
        "1. You can add a new cell by clicking on the \"+\" icon on top.\n",
        "2. You can delete a cell by selecting that cell and clicking on the \"scissors\" icon on top.\n",
        "3. You can execute a cell by either pressing shift+enter or selecting the \"play\" button on top.\n",
        "4. You can create a new file in Jupyter via the File menu->New Notebook option. Make sure to select Python 3 when creating your notebook.\n",
        "5. Also, for your code blocks make sure that Code is selected instead of another option like Markdown.\n",
        "6. Use the Enter key to go to the next line in a cell to enter the next statement.\n",
        "7. You can clear results by clicking on the Cell menu item and selecting Current Output->Clear or All Output->Clear depending on whether you are trying to just clear the output for one cell or for all cells.\n",
        "8. In case your program has crashed for some reason (infinite loop, for example), you can restart your Python session by select Kernel in the menu and selecting Restart.\n"
      ]
    },
    {
      "cell_type": "markdown",
      "metadata": {
        "id": "3Iv-NgtSaLJO"
      },
      "source": [
        "#### Check Python Version"
      ]
    },
    {
      "cell_type": "code",
      "execution_count": null,
      "metadata": {
        "id": "SifBzWGuaLJO",
        "outputId": "2e05837b-4a4b-4736-8d21-6a8b0f2aa3ba"
      },
      "outputs": [],
      "source": [
        "!python --version"
      ]
    },
    {
      "cell_type": "markdown",
      "metadata": {
        "id": "DiW593T3aLJP"
      },
      "source": [
        "#### Exercise 1 - Testing your knowledge of files **\n",
        "\n",
        "Answer the below questions\n",
        "\n",
        "1. In your own words, describe what a **file** is?\n",
        "2. Why is it important to close a file after we are done using it?"
      ]
    },
    {
      "cell_type": "markdown",
      "metadata": {
        "id": "Xx1o6HBsaLJP"
      },
      "source": [
        "<< Double click this cell and enter your result >>"
      ]
    },
    {
      "cell_type": "markdown",
      "metadata": {
        "id": "Ivx7k_NeaLJP"
      },
      "source": [
        "#### Exercise 2 -  Write to a file\n",
        "\n",
        "Write a python program to write the below lines to a file\n",
        "```\n",
        "Name, Age, Gender, Profession\n",
        "John, 20, Male, Software Developer\n",
        "Sammy, 22, Male, Scientist\n",
        "Elisa, 24, Female, Farmer\n",
        "Maria, 26, Female, Entrepreneur\n",
        "Karan, 45, Male, Teacher\n",
        "```\n",
        "\n",
        "Below are a set of recommended steps to accomplish this\n",
        "1. open a file in write mode. This will return a handle to the file\n",
        "2. use the write method to write each line to the file using the file handle returned in the open call\n",
        "3. close the file when done\n",
        "\n",
        "If you are having trouble reading the file, use the **encoding** parameter to determine the type of encoding you need to use to open the file. https://www.learnbyexample.org/python-open-function/\n",
        "\n",
        "Once done, go to the folder where the file is and open it to make sure that this is written."
      ]
    },
    {
      "cell_type": "code",
      "execution_count": 9,
      "metadata": {
        "id": "u-1Zl-U4aLJQ"
      },
      "outputs": [],
      "source": [
        "### YOUR CODE GOES\n",
        "# Open a file in write mode\n",
        "file_handle = open(\"people.csv\", \"w\")\n",
        "\n",
        "# Write each line to the file\n",
        "file_handle.write(\"Name, Age, Gender, Profession\\n\")\n",
        "file_handle.write(\"John, 20, Male, Software Developer\\n\")\n",
        "file_handle.write(\"Sammy, 22, Male, Scientist\\n\")\n",
        "file_handle.write(\"Elisa, 24, Female, Farmer\\n\")\n",
        "file_handle.write(\"Maria, 26, Female, Entrepreneur\\n\")\n",
        "file_handle.write(\"Karan, 45, Male, Teacher\\n\")\n",
        "\n",
        "# Close the file\n",
        "file_handle.close()\n",
        "\n",
        "### END CODE"
      ]
    },
    {
      "cell_type": "markdown",
      "metadata": {
        "id": "lIAYqfbxaLJQ"
      },
      "source": [
        "#### Exercise 3 - Reading from a file\n",
        "\n",
        "Read and display the data from the file you had just written to.\n",
        "\n",
        "Below are a set of recommended steps to accomplish this\n",
        "1. open the file in read mode. This will return a handle to the file.\n",
        "2. You can now iterate through each line in the file  and then use readline to read each line.\n",
        "3. Display each line as you read it in\n",
        "\n",
        "Note that you can also use the **read** method to read in all lines or the **readlines** method to read all lines into a list."
      ]
    },
    {
      "cell_type": "code",
      "execution_count": 10,
      "metadata": {
        "id": "8RB46HxgaLJQ"
      },
      "outputs": [
        {
          "name": "stdout",
          "output_type": "stream",
          "text": [
            "Name, Age, Gender, Profession\n",
            "John, 20, Male, Software Developer\n",
            "Sammy, 22, Male, Scientist\n",
            "Elisa, 24, Female, Farmer\n",
            "Maria, 26, Female, Entrepreneur\n",
            "Karan, 45, Male, Teacher\n"
          ]
        }
      ],
      "source": [
        "### YOUR CODE GOES BELOW\n",
        "\n",
        "# open the file in read mode\n",
        "with open(\"people.csv\", \"r\") as file_handle:\n",
        "    for line in file_handle:\n",
        "        print(line.strip())\n",
        "### END CODE"
      ]
    },
    {
      "cell_type": "markdown",
      "metadata": {
        "id": "03dhBVXcaLJQ"
      },
      "source": [
        "#### Exercise 4 - Finding the average age of users in a file\n",
        "\n",
        "Write a python program to find the average age of users in the file you just created.\n",
        "\n",
        "Below are a set of recommended steps to accomplish this\n",
        "1. Open the file in read mode\n",
        "2. Read in each line of the file\n",
        "3. Split each line in the file to get the age\n",
        "4. Find the average age and display it"
      ]
    },
    {
      "cell_type": "code",
      "execution_count": 11,
      "metadata": {
        "id": "vtLCFkgIaLJQ"
      },
      "outputs": [
        {
          "name": "stdout",
          "output_type": "stream",
          "text": [
            "The average age is 27.4 years.\n"
          ]
        }
      ],
      "source": [
        "### YOUR CODE GOES BELOW\n",
        "# Open the file in read mode\n",
        "with open(\"people.csv\", \"r\") as file_handle:\n",
        "    # Read in each line of the file\n",
        "    lines = file_handle.readlines()\n",
        "\n",
        "    # Initialize variables to store the sum of ages and the count of people\n",
        "    total_age = 0\n",
        "    count = 0\n",
        "\n",
        "    # Split each line to get the age\n",
        "    for line in lines[1:]:  # Skip the header line\n",
        "        name, age, gender, profession = line.strip().split(\", \")\n",
        "        total_age += int(age)\n",
        "        count += 1\n",
        "\n",
        "    # Find the average age and display it\n",
        "    average_age = total_age / count\n",
        "    print(f\"The average age is {average_age} years.\")\n",
        "\n",
        "### END CODE"
      ]
    },
    {
      "cell_type": "markdown",
      "metadata": {
        "id": "sEtOPjApaLJQ"
      },
      "source": [
        "#### Exercise 5 - Appending to a file\n",
        "\n",
        "Write a python program to append information provided by users to an existing file.\n",
        "\n",
        "You will need to\n",
        "1.  ask the user to enter their name, age, gender and profession using the **input** method\n",
        "2.  open the file you just created in the above exercies in append mode and write this information to the file.\n",
        "\n",
        "Remember to make sure that the information you append is entered in the same format where each field is separated by commas.\n",
        "\n"
      ]
    },
    {
      "cell_type": "code",
      "execution_count": 13,
      "metadata": {
        "id": "-H7VMBLtaLJQ"
      },
      "outputs": [],
      "source": [
        "### YOUR CODE GOES BELOW\n",
        "# Ask the user to enter their information\n",
        "name = input(\"Enter your name: \")\n",
        "age = input(\"Enter your age: \")\n",
        "gender = input(\"Enter your gender: \")\n",
        "profession = input(\"Enter your profession: \")\n",
        "\n",
        "# Open the file in append mode and write the information\n",
        "with open(\"people.csv\", \"a\") as file_handle:\n",
        "    file_handle.write(f\"\\n{name}, {age}, {gender}, {profession}\")\n",
        "\n",
        "### END CODE"
      ]
    }
  ],
  "metadata": {
    "colab": {
      "provenance": []
    },
    "kernelspec": {
      "display_name": "Python 3",
      "language": "python",
      "name": "python3"
    },
    "language_info": {
      "codemirror_mode": {
        "name": "ipython",
        "version": 3
      },
      "file_extension": ".py",
      "mimetype": "text/x-python",
      "name": "python",
      "nbconvert_exporter": "python",
      "pygments_lexer": "ipython3",
      "version": "3.9.7"
    }
  },
  "nbformat": 4,
  "nbformat_minor": 0
}
