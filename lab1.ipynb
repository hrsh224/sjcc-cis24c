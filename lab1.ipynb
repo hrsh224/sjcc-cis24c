{
  "cells": [
    {
      "cell_type": "markdown",
      "metadata": {
        "id": "HRZK6ne5RFu7"
      },
      "source": [
        "# CIS024C -  Spring 2024 - Lab 1\n",
        "\n",
        "## Lab 1\n",
        "\n",
        "Lab 1 covers Python basics that we discussed during the first class.\n",
        "\n",
        "Feel free to search the web for how you can solve these exercises.\n",
        "\n",
        "We will review them during class.\n",
        "\n",
        "**Students will be given points for attemping to solve the exercises. It is not required that you have the correct result **\n",
        "\n",
        "You will need to share the URL of your page in Canvas as the answer of your Lab."
      ]
    },
    {
      "cell_type": "markdown",
      "metadata": {
        "id": "BqNdvde5RFvB"
      },
      "source": [
        "#### Exercise 1\n",
        "\n",
        "Write a Python program to print the following string in a specific format (see the output). Go to the editor\n",
        "\n",
        "```\n",
        "Sample String :\n",
        "\n",
        "\"Twinkle, twinkle, little star, How I wonder what you are! Up above the world so high, Like a diamond in the sky. Twinkle, twinkle, little star, How I wonder what you are\"\n",
        "\n",
        "Output :\n",
        "\n",
        "\n",
        "Twinkle, twinkle, little star,\n",
        "\tHow I wonder what you are!\n",
        "\t\tUp above the world so high,\n",
        "\t\tLike a diamond in the sky.\n",
        "Twinkle, twinkle, little star,\n",
        "\tHow I wonder what you are\n",
        "```\n",
        "\n",
        "Hint:\n",
        "\n",
        "the tab character '\\t' can be used to achieve this effect"
      ]
    },
    {
      "cell_type": "code",
      "execution_count": null,
      "metadata": {
        "id": "5R_e6v0bRFvC",
        "colab": {
          "base_uri": "https://localhost:8080/"
        },
        "outputId": "11545534-5f3d-47f0-d24d-0373c633b3ec"
      },
      "outputs": [
        {
          "output_type": "stream",
          "name": "stdout",
          "text": [
            "Twinkle, twinkle, little star,\n",
            "  How I wonder what you are!\n",
            "      Up above the world so high,\n",
            "      Like a diamond in the sky.\n",
            "Twinkle, twinkle, little star,\n",
            "   How I wonder what you are\n"
          ]
        }
      ],
      "source": [
        "### YOUR CODE GOES BELOW\n",
        "\n",
        "\n",
        "### END CODE"
      ]
    },
    {
      "cell_type": "markdown",
      "metadata": {
        "id": "55tmvO_hRFvE"
      },
      "source": [
        "#### Exercise 2\n",
        "\n",
        "Write a Python program to get the Python version you are using\n",
        "\n",
        "python --version gives you the version. You will need to use the magic character to run command line programs (!) before you invoke the python command"
      ]
    },
    {
      "cell_type": "code",
      "execution_count": null,
      "metadata": {
        "id": "FqaWRJLWRFvF",
        "colab": {
          "base_uri": "https://localhost:8080/"
        },
        "outputId": "34951446-3244-417f-ba64-d8fa9a3770b7"
      },
      "outputs": [
        {
          "output_type": "stream",
          "name": "stdout",
          "text": [
            "Python 3.10.12 (main, Nov 20 2023, 15:14:05) [GCC 11.4.0] on linux\n",
            "Type \"help\", \"copyright\", \"credits\" or \"license\" for more information.\n",
            ">>> \n",
            "\n",
            "KeyboardInterrupt\n",
            ">>> \n",
            "KeyboardInterrupt\n",
            ">>> ^C\n"
          ]
        }
      ],
      "source": []
    },
    {
      "cell_type": "markdown",
      "metadata": {
        "id": "K1_f1_ygRFvF"
      },
      "source": [
        "#### Exercise 3\n",
        "\n",
        "Write a Python program to display the current date and time.\n",
        "\n",
        "Hint:\n",
        "\n",
        "Try doing a google search to see if there is a simple way to do this\n",
        "\n"
      ]
    },
    {
      "cell_type": "code",
      "execution_count": null,
      "metadata": {
        "id": "BpIF6oWmRFvF",
        "colab": {
          "base_uri": "https://localhost:8080/"
        },
        "outputId": "f3628dd7-715f-4671-ef45-4bd089b890ee"
      },
      "outputs": [
        {
          "output_type": "stream",
          "name": "stdout",
          "text": [
            "Current time : \n",
            "21:56:17\n"
          ]
        }
      ],
      "source": [
        "# Import the 'datetime' module to work with date and time\n"
      ]
    },
    {
      "cell_type": "markdown",
      "metadata": {
        "id": "d7vZ2-RcRFvF"
      },
      "source": [
        "#### Exercise 4\n",
        "\n",
        "Write a Python program which accepts the radius of a circle from the user and compute the area"
      ]
    },
    {
      "cell_type": "code",
      "execution_count": null,
      "metadata": {
        "id": "SXn1-N_tRFvG",
        "colab": {
          "base_uri": "https://localhost:8080/"
        },
        "outputId": "430374d2-b4de-4f0d-cda6-823db4734d34"
      },
      "outputs": [
        {
          "output_type": "stream",
          "name": "stdout",
          "text": [
            "Please enter the radius of the given circle: 2.0\n",
            " The area of the given circle is:  12.56\n"
          ]
        }
      ],
      "source": []
    },
    {
      "cell_type": "markdown",
      "metadata": {
        "id": "fmwi_PVORFvG"
      },
      "source": [
        "#### Exercise 5\n",
        "\n",
        "Write a Python program which accepts the user's first and last name and print them in reverse order with a space between them\n",
        "\n",
        "Hint:\n",
        "\n",
        "Use the string.split command to do this, for example if you have a string \"Hello World\" assigned to a variable myString. You can get the first and last words by splitting using a space character like below\n",
        "\n",
        "myString.split()"
      ]
    },
    {
      "cell_type": "code",
      "execution_count": null,
      "metadata": {
        "id": "h-T-qIShRFvG",
        "colab": {
          "base_uri": "https://localhost:8080/"
        },
        "outputId": "b5b796c0-80f1-45f1-b13e-e93289f23934"
      },
      "outputs": [
        {
          "output_type": "execute_result",
          "data": {
            "text/plain": [
              "['Hello', 'World']"
            ]
          },
          "metadata": {},
          "execution_count": 10
        }
      ],
      "source": []
    },
    {
      "cell_type": "markdown",
      "metadata": {
        "id": "D5OooHviRFvH"
      },
      "source": [
        "#### Exercise 6\n",
        "\n",
        "Write a Python program which accepts a sequence of comma-separated numbers from user and generate a list and a tuple with those numbers\n",
        "\n",
        "Hint:\n",
        "\n",
        "See Exercise 5 for usage of split command"
      ]
    },
    {
      "cell_type": "code",
      "execution_count": null,
      "metadata": {
        "id": "zo34l5ohRFvH",
        "colab": {
          "base_uri": "https://localhost:8080/"
        },
        "outputId": "ea001ce1-ff64-4c45-e91d-294fc536ade1"
      },
      "outputs": [
        {
          "output_type": "stream",
          "name": "stdout",
          "text": [
            "Input some comma-separated numbers: 1,3,6,8\n",
            "List :  ['1', '3', '6', '8']\n",
            "Tuple :  ('1', '3', '6', '8')\n"
          ]
        }
      ],
      "source": []
    },
    {
      "cell_type": "markdown",
      "metadata": {
        "id": "7XBtYUdaRFvI"
      },
      "source": [
        "#### Exercise 7\n",
        "\n",
        "Write a Python program to accept a filename from the user and print the extension of that\n",
        "\n",
        "Hint:\n",
        "\n",
        "See split command\n"
      ]
    },
    {
      "cell_type": "code",
      "execution_count": null,
      "metadata": {
        "id": "yjofY6LMRFvI",
        "colab": {
          "base_uri": "https://localhost:8080/"
        },
        "outputId": "9701f53b-3949-4d74-fe3d-4470716efe34"
      },
      "outputs": [
        {
          "output_type": "stream",
          "name": "stdout",
          "text": [
            "Input the Filename: class.exe\n",
            "The extension of the file is : 'exe'\n"
          ]
        }
      ],
      "source": []
    },
    {
      "cell_type": "markdown",
      "metadata": {
        "id": "KxW7FT4WRFvJ"
      },
      "source": [
        "#### Exercise 8\n",
        "\n",
        "Write a  Python program that accepts an integer (n) and computes the value of n+nn+nnn"
      ]
    },
    {
      "cell_type": "code",
      "execution_count": null,
      "metadata": {
        "id": "4WPAslYpRFvJ",
        "colab": {
          "base_uri": "https://localhost:8080/"
        },
        "outputId": "f81a2a3d-ca44-449c-cf1b-6a1d687a55dd"
      },
      "outputs": [
        {
          "output_type": "stream",
          "name": "stdout",
          "text": [
            "Input an integer: 2\n",
            "246\n"
          ]
        }
      ],
      "source": []
    }
  ],
  "metadata": {
    "kernelspec": {
      "display_name": "Python 3",
      "language": "python",
      "name": "python3"
    },
    "language_info": {
      "codemirror_mode": {
        "name": "ipython",
        "version": 3
      },
      "file_extension": ".py",
      "mimetype": "text/x-python",
      "name": "python",
      "nbconvert_exporter": "python",
      "pygments_lexer": "ipython3",
      "version": "3.8.5"
    },
    "colab": {
      "provenance": []
    }
  },
  "nbformat": 4,
  "nbformat_minor": 0
}