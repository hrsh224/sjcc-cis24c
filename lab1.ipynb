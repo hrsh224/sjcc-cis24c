{
  "cells": [
    {
      "cell_type": "markdown",
      "metadata": {
        "id": "HRZK6ne5RFu7"
      },
      "source": [
        "# CIS024C -  Spring 2024 - Lab 1\n",
        "\n",
        "## Lab 1\n",
        "\n",
        "Lab 1 covers Python basics that we discussed during the first class.\n",
        "\n",
        "Feel free to search the web for how you can solve these exercises.\n",
        "\n",
        "We will review them during class.\n",
        "\n",
        "**Students will be given points for attemping to solve the exercises. It is not required that you have the correct result **\n",
        "\n",
        "You will need to share the URL of your page in Canvas as the answer of your Lab."
      ]
    },
    {
      "cell_type": "markdown",
      "metadata": {
        "id": "BqNdvde5RFvB"
      },
      "source": [
        "#### Exercise 1\n",
        "\n",
        "Write a Python program to print the following string in a specific format (see the output). Go to the editor\n",
        "\n",
        "```\n",
        "Sample String :\n",
        "\n",
        "\"Twinkle, twinkle, little star, How I wonder what you are! Up above the world so high, Like a diamond in the sky. Twinkle, twinkle, little star, How I wonder what you are\"\n",
        "\n",
        "Output :\n",
        "\n",
        "\n",
        "Twinkle, twinkle, little star,\n",
        "\tHow I wonder what you are!\n",
        "\t\tUp above the world so high,\n",
        "\t\tLike a diamond in the sky.\n",
        "Twinkle, twinkle, little star,\n",
        "\tHow I wonder what you are\n",
        "```\n",
        "\n",
        "Hint:\n",
        "\n",
        "the tab character '\\t' can be used to achieve this effect"
      ]
    },
    {
      "cell_type": "code",
      "execution_count": null,
      "metadata": {
        "colab": {
          "base_uri": "https://localhost:8080/"
        },
        "id": "5R_e6v0bRFvC",
        "outputId": "11545534-5f3d-47f0-d24d-0373c633b3ec"
      },
      "outputs": [
        {
          "name": "stdout",
          "output_type": "stream",
          "text": [
            "Twinkle, twinkle, little star,\n",
            "  How I wonder what you are!\n",
            "      Up above the world so high,\n",
            "      Like a diamond in the sky.\n",
            "Twinkle, twinkle, little star,\n",
            "   How I wonder what you are\n"
          ]
        }
      ],
      "source": [
        "### YOUR CODE GOES BELOW\n",
        "print(\"Twinkle, twinkle, little star,\")\n",
        "print(\"\\t How I wonder what you are!\")\n",
        "print(\"\\t\\t Up above the world so high,\")\n",
        "print(\"\\t\\t Like a diamond in the sky.\")\n",
        "print(\"Twinkle, twinkle, little star,\")\n",
        "print(\"\\t How I wonder what you are\")\n",
        "### END CODE"
      ]
    },
    {
      "cell_type": "markdown",
      "metadata": {
        "id": "55tmvO_hRFvE"
      },
      "source": [
        "#### Exercise 2\n",
        "\n",
        "Write a Python program to get the Python version you are using\n",
        "\n",
        "python --version gives you the version. You will need to use the magic character to run command line programs (!) before you invoke the python command"
      ]
    },
    {
      "cell_type": "code",
      "execution_count": 1,
      "metadata": {
        "colab": {
          "base_uri": "https://localhost:8080/"
        },
        "id": "FqaWRJLWRFvF",
        "outputId": "34951446-3244-417f-ba64-d8fa9a3770b7"
      },
      "outputs": [
        {
          "name": "stdout",
          "output_type": "stream",
          "text": [
            "3.9.7 (v3.9.7:1016ef3790, Aug 30 2021, 16:25:35) \n",
            "[Clang 12.0.5 (clang-1205.0.22.11)]\n"
          ]
        }
      ],
      "source": [
        "import sys\n",
        "print(sys.version)"
      ]
    },
    {
      "cell_type": "markdown",
      "metadata": {
        "id": "K1_f1_ygRFvF"
      },
      "source": [
        "#### Exercise 3\n",
        "\n",
        "Write a Python program to display the current date and time.\n",
        "\n",
        "Hint:\n",
        "\n",
        "Try doing a google search to see if there is a simple way to do this\n",
        "\n"
      ]
    },
    {
      "cell_type": "code",
      "execution_count": 1,
      "metadata": {
        "colab": {
          "base_uri": "https://localhost:8080/"
        },
        "id": "BpIF6oWmRFvF",
        "outputId": "f3628dd7-715f-4671-ef45-4bd089b890ee"
      },
      "outputs": [
        {
          "name": "stdout",
          "output_type": "stream",
          "text": [
            "Current Date and Time: 2024-04-28 18:51:49.975998\n"
          ]
        }
      ],
      "source": [
        "# Import the 'datetime' module to work with date and time\n",
        "import datetime\n",
        "\n",
        "current_datetime = datetime.datetime.now()\n",
        "\n",
        "print(\"Current Date and Time:\", current_datetime)\n"
      ]
    },
    {
      "cell_type": "markdown",
      "metadata": {
        "id": "d7vZ2-RcRFvF"
      },
      "source": [
        "#### Exercise 4\n",
        "\n",
        "Write a Python program which accepts the radius of a circle from the user and compute the area"
      ]
    },
    {
      "cell_type": "code",
      "execution_count": 1,
      "metadata": {
        "colab": {
          "base_uri": "https://localhost:8080/"
        },
        "id": "SXn1-N_tRFvG",
        "outputId": "430374d2-b4de-4f0d-cda6-823db4734d34"
      },
      "outputs": [
        {
          "name": "stdout",
          "output_type": "stream",
          "text": [
            "The area of the circle with radius 4.0 is: 50.26548245743669\n"
          ]
        }
      ],
      "source": [
        "import math\n",
        "\n",
        "def compute_circle_area(radius):\n",
        "    return math.pi * radius**2\n",
        "\n",
        "def main():\n",
        "    radius = float(input(\"Enter the radius of the circle: \"))\n",
        "\n",
        "    area = compute_circle_area(radius)\n",
        "\n",
        "    print(\"The area of the circle with radius\", radius, \"is:\", area)\n",
        "\n",
        "if __name__ == \"__main__\":\n",
        "    main()\n"
      ]
    },
    {
      "cell_type": "markdown",
      "metadata": {
        "id": "fmwi_PVORFvG"
      },
      "source": [
        "#### Exercise 5\n",
        "\n",
        "Write a Python program which accepts the user's first and last name and print them in reverse order with a space between them\n",
        "\n",
        "Hint:\n",
        "\n",
        "Use the string.split command to do this, for example if you have a string \"Hello World\" assigned to a variable myString. You can get the first and last words by splitting using a space character like below\n",
        "\n",
        "myString.split()"
      ]
    },
    {
      "cell_type": "code",
      "execution_count": 3,
      "metadata": {
        "colab": {
          "base_uri": "https://localhost:8080/"
        },
        "id": "h-T-qIShRFvG",
        "outputId": "b5b796c0-80f1-45f1-b13e-e93289f23934"
      },
      "outputs": [
        {
          "name": "stdout",
          "output_type": "stream",
          "text": [
            "Reversed name: Allamraju Harish\n"
          ]
        }
      ],
      "source": [
        "def main():\n",
        "    full_name = input(\"Enter your first and last name: \")\n",
        "\n",
        "    names = full_name.split()\n",
        "\n",
        "    reversed_name = ' '.join(reversed(names))\n",
        "\n",
        "    print(\"Reversed name:\", reversed_name)\n",
        "\n",
        "if __name__ == \"__main__\":\n",
        "    main()\n",
        "\n"
      ]
    },
    {
      "cell_type": "markdown",
      "metadata": {
        "id": "D5OooHviRFvH"
      },
      "source": [
        "#### Exercise 6\n",
        "\n",
        "Write a Python program which accepts a sequence of comma-separated numbers from user and generate a list and a tuple with those numbers\n",
        "\n",
        "Hint:\n",
        "\n",
        "See Exercise 5 for usage of split command"
      ]
    },
    {
      "cell_type": "code",
      "execution_count": 4,
      "metadata": {
        "colab": {
          "base_uri": "https://localhost:8080/"
        },
        "id": "zo34l5ohRFvH",
        "outputId": "ea001ce1-ff64-4c45-e91d-294fc536ade1"
      },
      "outputs": [
        {
          "name": "stdout",
          "output_type": "stream",
          "text": [
            "List: ['1', '2', '3', '4', '5']\n",
            "Tuple: ('1', '2', '3', '4', '5')\n"
          ]
        }
      ],
      "source": [
        "def main():\n",
        "    numbers_input = input(\"Enter comma-separated numbers: \")\n",
        "\n",
        "    numbers_list = numbers_input.split(',')\n",
        "\n",
        "    numbers_tuple = tuple(numbers_list)\n",
        "\n",
        "    print(\"List:\", numbers_list)\n",
        "    print(\"Tuple:\", numbers_tuple)\n",
        "\n",
        "if __name__ == \"__main__\":\n",
        "    main()\n"
      ]
    },
    {
      "cell_type": "markdown",
      "metadata": {
        "id": "7XBtYUdaRFvI"
      },
      "source": [
        "#### Exercise 7\n",
        "\n",
        "Write a Python program to accept a filename from the user and print the extension of that\n",
        "\n",
        "Hint:\n",
        "\n",
        "See split command\n"
      ]
    },
    {
      "cell_type": "code",
      "execution_count": 5,
      "metadata": {
        "colab": {
          "base_uri": "https://localhost:8080/"
        },
        "id": "yjofY6LMRFvI",
        "outputId": "9701f53b-3949-4d74-fe3d-4470716efe34"
      },
      "outputs": [
        {
          "name": "stdout",
          "output_type": "stream",
          "text": [
            "Extension of the file: pdf\n"
          ]
        }
      ],
      "source": [
        "def main():\n",
        "    # Accept filename input from user\n",
        "    filename = input(\"Enter a filename: \")\n",
        "\n",
        "    # Split the filename into its name and extension parts\n",
        "    filename_parts = filename.split('.')\n",
        "\n",
        "    # Extract the extension (last part of the filename)\n",
        "    extension = filename_parts[-1]\n",
        "\n",
        "    # Print the extension\n",
        "    print(\"Extension of the file:\", extension)\n",
        "\n",
        "if __name__ == \"__main__\":\n",
        "    main()\n"
      ]
    },
    {
      "cell_type": "markdown",
      "metadata": {
        "id": "KxW7FT4WRFvJ"
      },
      "source": [
        "#### Exercise 8\n",
        "\n",
        "Write a  Python program that accepts an integer (n) and computes the value of n+nn+nnn"
      ]
    },
    {
      "cell_type": "code",
      "execution_count": 7,
      "metadata": {
        "colab": {
          "base_uri": "https://localhost:8080/"
        },
        "id": "4WPAslYpRFvJ",
        "outputId": "f81a2a3d-ca44-449c-cf1b-6a1d687a55dd"
      },
      "outputs": [
        {
          "name": "stdout",
          "output_type": "stream",
          "text": [
            "Result of the expression: 615\n"
          ]
        }
      ],
      "source": [
        "def compute_expression(n):\n",
        "    nn = int(str(n) * 2)  \n",
        "    nnn = int(str(n) * 3)  \n",
        "    return n + nn + nnn\n",
        "\n",
        "def main():\n",
        "    n = int(input(\"Enter an integer (n): \"))\n",
        "\n",
        "    result = compute_expression(n)\n",
        "\n",
        "    print(\"Result of the expression:\", result)\n",
        "\n",
        "if __name__ == \"__main__\":\n",
        "    main()\n"
      ]
    }
  ],
  "metadata": {
    "colab": {
      "provenance": []
    },
    "kernelspec": {
      "display_name": "Python 3",
      "language": "python",
      "name": "python3"
    },
    "language_info": {
      "codemirror_mode": {
        "name": "ipython",
        "version": 3
      },
      "file_extension": ".py",
      "mimetype": "text/x-python",
      "name": "python",
      "nbconvert_exporter": "python",
      "pygments_lexer": "ipython3",
      "version": "3.9.7"
    }
  },
  "nbformat": 4,
  "nbformat_minor": 0
}
